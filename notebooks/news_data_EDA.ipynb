{
 "cells": [
  {
   "cell_type": "code",
   "execution_count": 24,
   "metadata": {},
   "outputs": [],
   "source": [
    "import numpy as np\n",
    "import pandas as pd\n",
    "import matplotlib.pyplot as plt\n",
    "import seaborn as sns\n",
    "import gensim\n",
    "import nltk\n",
    "import spacy"
   ]
  },
  {
   "cell_type": "code",
   "execution_count": 25,
   "metadata": {},
   "outputs": [],
   "source": [
    "df_rating=pd.read_csv(r\"C:\\Users\\user\\3D Objects\\news_correlation_10ac_week0\\data_sets\\data_rating.csv\\rating.csv\")\n",
    "df_domain_location=pd.read_csv(r\"C:\\Users\\user\\3D Objects\\news_correlation_10ac_week0\\data_sets\\domain_location\\domains_location.csv\")\n",
    "df_traffic=pd.read_csv(r\"C:\\Users\\user\\3D Objects\\news_correlation_10ac_week0\\data_sets\\traffic_data\\traffic.csv\")"
   ]
  },
  {
   "cell_type": "code",
   "execution_count": 26,
   "metadata": {},
   "outputs": [
    {
     "data": {
      "text/html": [
       "<div>\n",
       "<style scoped>\n",
       "    .dataframe tbody tr th:only-of-type {\n",
       "        vertical-align: middle;\n",
       "    }\n",
       "\n",
       "    .dataframe tbody tr th {\n",
       "        vertical-align: top;\n",
       "    }\n",
       "\n",
       "    .dataframe thead th {\n",
       "        text-align: right;\n",
       "    }\n",
       "</style>\n",
       "<table border=\"1\" class=\"dataframe\">\n",
       "  <thead>\n",
       "    <tr style=\"text-align: right;\">\n",
       "      <th></th>\n",
       "      <th>article_id</th>\n",
       "      <th>source_id</th>\n",
       "      <th>source_name</th>\n",
       "      <th>author</th>\n",
       "      <th>title</th>\n",
       "      <th>description</th>\n",
       "      <th>url</th>\n",
       "      <th>url_to_image</th>\n",
       "      <th>published_at</th>\n",
       "      <th>content</th>\n",
       "      <th>category</th>\n",
       "      <th>article</th>\n",
       "      <th>title_sentiment</th>\n",
       "    </tr>\n",
       "  </thead>\n",
       "  <tbody>\n",
       "    <tr>\n",
       "      <th>0</th>\n",
       "      <td>81664</td>\n",
       "      <td>NaN</td>\n",
       "      <td>Forbes</td>\n",
       "      <td>Elizabeth Brownfield, Contributor, \\n Elizabet...</td>\n",
       "      <td>superstar chef yannick alléno brings refined f...</td>\n",
       "      <td>Now open in Mayfair at Four Seasons Hotel Lond...</td>\n",
       "      <td>https://www.forbes.com/sites/elizabethbrownfie...</td>\n",
       "      <td>https://imageio.forbes.com/specials-images/ima...</td>\n",
       "      <td>2023-11-01 03:27:21.000000</td>\n",
       "      <td>Pavyllon London, at Four Seasons Hotel London ...</td>\n",
       "      <td>Monaco</td>\n",
       "      <td>pavyllon london, at four seasons hotel london ...</td>\n",
       "      <td>Neutral</td>\n",
       "    </tr>\n",
       "    <tr>\n",
       "      <th>1</th>\n",
       "      <td>81667</td>\n",
       "      <td>NaN</td>\n",
       "      <td>CNA</td>\n",
       "      <td>NaN</td>\n",
       "      <td>nice claim top spot in ligue 1 with late win a...</td>\n",
       "      <td>Nice moved into provisional first place in the...</td>\n",
       "      <td>https://www.channelnewsasia.com/sport/nice-cla...</td>\n",
       "      <td>https://onecms-res.cloudinary.com/image/upload...</td>\n",
       "      <td>2023-10-27 21:28:48.000000</td>\n",
       "      <td>Nice moved into provisional first place in the...</td>\n",
       "      <td>Monaco</td>\n",
       "      <td>nice moved into provisional first place in the...</td>\n",
       "      <td>Positive</td>\n",
       "    </tr>\n",
       "    <tr>\n",
       "      <th>2</th>\n",
       "      <td>81694</td>\n",
       "      <td>time</td>\n",
       "      <td>Time</td>\n",
       "      <td>Christina Larson / AP</td>\n",
       "      <td>amphibians are the world’s most vulnerable spe...</td>\n",
       "      <td>The world’s frogs, salamanders, newts, and oth...</td>\n",
       "      <td>https://time.com/6320467/amphibians-most-vulne...</td>\n",
       "      <td>https://api.time.com/wp-content/uploads/2023/1...</td>\n",
       "      <td>2023-10-04 17:36:18.000000</td>\n",
       "      <td>The worlds frogs, salamanders, newts and other...</td>\n",
       "      <td>Madagascar</td>\n",
       "      <td>the world’s frogs, salamanders, newts and othe...</td>\n",
       "      <td>Negative</td>\n",
       "    </tr>\n",
       "    <tr>\n",
       "      <th>3</th>\n",
       "      <td>81695</td>\n",
       "      <td>NaN</td>\n",
       "      <td>Phys.Org</td>\n",
       "      <td>Sara Schmidt</td>\n",
       "      <td>image: rusty red waters in madagascar</td>\n",
       "      <td>Iron-rich sediment colors the red-orange water...</td>\n",
       "      <td>https://phys.org/news/2023-10-image-rusty-red-...</td>\n",
       "      <td>https://scx2.b-cdn.net/gfx/news/2023/image-rus...</td>\n",
       "      <td>2023-10-31 18:04:02.000000</td>\n",
       "      <td>Iron-rich sediment colors the red-orange water...</td>\n",
       "      <td>Madagascar</td>\n",
       "      <td>iron-rich sediment colors the red-orange water...</td>\n",
       "      <td>Neutral</td>\n",
       "    </tr>\n",
       "    <tr>\n",
       "      <th>4</th>\n",
       "      <td>81703</td>\n",
       "      <td>NaN</td>\n",
       "      <td>Digital Trends</td>\n",
       "      <td>Jason Struss</td>\n",
       "      <td>everything leaving max (formerly hbo max) in n...</td>\n",
       "      <td>From Gangs of London to Fear the Walking Dead ...</td>\n",
       "      <td>https://www.digitaltrends.com/movies/everythin...</td>\n",
       "      <td>https://www.digitaltrends.com/wp-content/uploa...</td>\n",
       "      <td>2023-10-23 23:09:18.000000</td>\n",
       "      <td>Everything ends. No, I’m not having an existen...</td>\n",
       "      <td>Madagascar</td>\n",
       "      <td>everything ends. no, i’m not having an existen...</td>\n",
       "      <td>Neutral</td>\n",
       "    </tr>\n",
       "  </tbody>\n",
       "</table>\n",
       "</div>"
      ],
      "text/plain": [
       "   article_id source_id     source_name  \\\n",
       "0       81664       NaN          Forbes   \n",
       "1       81667       NaN             CNA   \n",
       "2       81694      time            Time   \n",
       "3       81695       NaN        Phys.Org   \n",
       "4       81703       NaN  Digital Trends   \n",
       "\n",
       "                                              author  \\\n",
       "0  Elizabeth Brownfield, Contributor, \\n Elizabet...   \n",
       "1                                                NaN   \n",
       "2                              Christina Larson / AP   \n",
       "3                                       Sara Schmidt   \n",
       "4                                       Jason Struss   \n",
       "\n",
       "                                               title  \\\n",
       "0  superstar chef yannick alléno brings refined f...   \n",
       "1  nice claim top spot in ligue 1 with late win a...   \n",
       "2  amphibians are the world’s most vulnerable spe...   \n",
       "3              image: rusty red waters in madagascar   \n",
       "4  everything leaving max (formerly hbo max) in n...   \n",
       "\n",
       "                                         description  \\\n",
       "0  Now open in Mayfair at Four Seasons Hotel Lond...   \n",
       "1  Nice moved into provisional first place in the...   \n",
       "2  The world’s frogs, salamanders, newts, and oth...   \n",
       "3  Iron-rich sediment colors the red-orange water...   \n",
       "4  From Gangs of London to Fear the Walking Dead ...   \n",
       "\n",
       "                                                 url  \\\n",
       "0  https://www.forbes.com/sites/elizabethbrownfie...   \n",
       "1  https://www.channelnewsasia.com/sport/nice-cla...   \n",
       "2  https://time.com/6320467/amphibians-most-vulne...   \n",
       "3  https://phys.org/news/2023-10-image-rusty-red-...   \n",
       "4  https://www.digitaltrends.com/movies/everythin...   \n",
       "\n",
       "                                        url_to_image  \\\n",
       "0  https://imageio.forbes.com/specials-images/ima...   \n",
       "1  https://onecms-res.cloudinary.com/image/upload...   \n",
       "2  https://api.time.com/wp-content/uploads/2023/1...   \n",
       "3  https://scx2.b-cdn.net/gfx/news/2023/image-rus...   \n",
       "4  https://www.digitaltrends.com/wp-content/uploa...   \n",
       "\n",
       "                 published_at  \\\n",
       "0  2023-11-01 03:27:21.000000   \n",
       "1  2023-10-27 21:28:48.000000   \n",
       "2  2023-10-04 17:36:18.000000   \n",
       "3  2023-10-31 18:04:02.000000   \n",
       "4  2023-10-23 23:09:18.000000   \n",
       "\n",
       "                                             content    category  \\\n",
       "0  Pavyllon London, at Four Seasons Hotel London ...      Monaco   \n",
       "1  Nice moved into provisional first place in the...      Monaco   \n",
       "2  The worlds frogs, salamanders, newts and other...  Madagascar   \n",
       "3  Iron-rich sediment colors the red-orange water...  Madagascar   \n",
       "4  Everything ends. No, I’m not having an existen...  Madagascar   \n",
       "\n",
       "                                             article title_sentiment  \n",
       "0  pavyllon london, at four seasons hotel london ...         Neutral  \n",
       "1  nice moved into provisional first place in the...        Positive  \n",
       "2  the world’s frogs, salamanders, newts and othe...        Negative  \n",
       "3  iron-rich sediment colors the red-orange water...         Neutral  \n",
       "4  everything ends. no, i’m not having an existen...         Neutral  "
      ]
     },
     "execution_count": 26,
     "metadata": {},
     "output_type": "execute_result"
    }
   ],
   "source": [
    "df_rating.head()"
   ]
  },
  {
   "cell_type": "code",
   "execution_count": 79,
   "metadata": {},
   "outputs": [],
   "source": [
    "df_domain_location.rename(columns={\"SourceCommonName\":\"domain\"},inplace=True)"
   ]
  },
  {
   "cell_type": "code",
   "execution_count": 115,
   "metadata": {},
   "outputs": [
    {
     "data": {
      "text/html": [
       "<div>\n",
       "<style scoped>\n",
       "    .dataframe tbody tr th:only-of-type {\n",
       "        vertical-align: middle;\n",
       "    }\n",
       "\n",
       "    .dataframe tbody tr th {\n",
       "        vertical-align: top;\n",
       "    }\n",
       "\n",
       "    .dataframe thead th {\n",
       "        text-align: right;\n",
       "    }\n",
       "</style>\n",
       "<table border=\"1\" class=\"dataframe\">\n",
       "  <thead>\n",
       "    <tr style=\"text-align: right;\">\n",
       "      <th></th>\n",
       "      <th>domain</th>\n",
       "      <th>location</th>\n",
       "      <th>Country</th>\n",
       "    </tr>\n",
       "  </thead>\n",
       "  <tbody>\n",
       "    <tr>\n",
       "      <th>0</th>\n",
       "      <td>00221.info</td>\n",
       "      <td>SG</td>\n",
       "      <td>Senegal</td>\n",
       "    </tr>\n",
       "    <tr>\n",
       "      <th>1</th>\n",
       "      <td>01net.com</td>\n",
       "      <td>FR</td>\n",
       "      <td>France</td>\n",
       "    </tr>\n",
       "    <tr>\n",
       "      <th>2</th>\n",
       "      <td>01net.it</td>\n",
       "      <td>IT</td>\n",
       "      <td>Italy</td>\n",
       "    </tr>\n",
       "    <tr>\n",
       "      <th>3</th>\n",
       "      <td>0223.com.ar</td>\n",
       "      <td>AR</td>\n",
       "      <td>Argentina</td>\n",
       "    </tr>\n",
       "    <tr>\n",
       "      <th>4</th>\n",
       "      <td>022china.com</td>\n",
       "      <td>CH</td>\n",
       "      <td>China</td>\n",
       "    </tr>\n",
       "    <tr>\n",
       "      <th>5</th>\n",
       "      <td>02blog.it</td>\n",
       "      <td>IT</td>\n",
       "      <td>Italy</td>\n",
       "    </tr>\n",
       "    <tr>\n",
       "      <th>6</th>\n",
       "      <td>02elf.net</td>\n",
       "      <td>GM</td>\n",
       "      <td>Germany</td>\n",
       "    </tr>\n",
       "    <tr>\n",
       "      <th>7</th>\n",
       "      <td>032.ua</td>\n",
       "      <td>UP</td>\n",
       "      <td>Ukraine</td>\n",
       "    </tr>\n",
       "    <tr>\n",
       "      <th>8</th>\n",
       "      <td>0362.ua</td>\n",
       "      <td>UP</td>\n",
       "      <td>Ukraine</td>\n",
       "    </tr>\n",
       "    <tr>\n",
       "      <th>9</th>\n",
       "      <td>0372.ua</td>\n",
       "      <td>UP</td>\n",
       "      <td>Ukraine</td>\n",
       "    </tr>\n",
       "    <tr>\n",
       "      <th>10</th>\n",
       "      <td>048.ua</td>\n",
       "      <td>UP</td>\n",
       "      <td>Ukraine</td>\n",
       "    </tr>\n",
       "    <tr>\n",
       "      <th>11</th>\n",
       "      <td>0542.ua</td>\n",
       "      <td>UP</td>\n",
       "      <td>Ukraine</td>\n",
       "    </tr>\n",
       "    <tr>\n",
       "      <th>12</th>\n",
       "      <td>055firenze.it</td>\n",
       "      <td>IT</td>\n",
       "      <td>Italy</td>\n",
       "    </tr>\n",
       "    <tr>\n",
       "      <th>13</th>\n",
       "      <td>0564.ua</td>\n",
       "      <td>UP</td>\n",
       "      <td>Ukraine</td>\n",
       "    </tr>\n",
       "    <tr>\n",
       "      <th>14</th>\n",
       "      <td>057.ua</td>\n",
       "      <td>UP</td>\n",
       "      <td>Ukraine</td>\n",
       "    </tr>\n",
       "    <tr>\n",
       "      <th>15</th>\n",
       "      <td>061.ua</td>\n",
       "      <td>UP</td>\n",
       "      <td>Ukraine</td>\n",
       "    </tr>\n",
       "    <tr>\n",
       "      <th>16</th>\n",
       "      <td>06880danwoog.com</td>\n",
       "      <td>US</td>\n",
       "      <td>United States</td>\n",
       "    </tr>\n",
       "    <tr>\n",
       "      <th>17</th>\n",
       "      <td>07kbr.ru</td>\n",
       "      <td>RS</td>\n",
       "      <td>Russia</td>\n",
       "    </tr>\n",
       "    <tr>\n",
       "      <th>18</th>\n",
       "      <td>0lf.net</td>\n",
       "      <td>EG</td>\n",
       "      <td>Egypt</td>\n",
       "    </tr>\n",
       "    <tr>\n",
       "      <th>19</th>\n",
       "      <td>1.zt.ua</td>\n",
       "      <td>UP</td>\n",
       "      <td>Ukraine</td>\n",
       "    </tr>\n",
       "  </tbody>\n",
       "</table>\n",
       "</div>"
      ],
      "text/plain": [
       "              domain location        Country\n",
       "0         00221.info       SG        Senegal\n",
       "1          01net.com       FR         France\n",
       "2           01net.it       IT          Italy\n",
       "3        0223.com.ar       AR      Argentina\n",
       "4       022china.com       CH          China\n",
       "5          02blog.it       IT          Italy\n",
       "6          02elf.net       GM        Germany\n",
       "7             032.ua       UP        Ukraine\n",
       "8            0362.ua       UP        Ukraine\n",
       "9            0372.ua       UP        Ukraine\n",
       "10            048.ua       UP        Ukraine\n",
       "11           0542.ua       UP        Ukraine\n",
       "12     055firenze.it       IT          Italy\n",
       "13           0564.ua       UP        Ukraine\n",
       "14            057.ua       UP        Ukraine\n",
       "15            061.ua       UP        Ukraine\n",
       "16  06880danwoog.com       US  United States\n",
       "17          07kbr.ru       RS         Russia\n",
       "18           0lf.net       EG          Egypt\n",
       "19           1.zt.ua       UP        Ukraine"
      ]
     },
     "execution_count": 115,
     "metadata": {},
     "output_type": "execute_result"
    }
   ],
   "source": [
    "df_domain_location.head(20)"
   ]
  },
  {
   "cell_type": "code",
   "execution_count": 28,
   "metadata": {},
   "outputs": [],
   "source": [
    "df_url=df_rating[\"url\"]"
   ]
  },
  {
   "cell_type": "code",
   "execution_count": 29,
   "metadata": {},
   "outputs": [
    {
     "name": "stdout",
     "output_type": "stream",
     "text": [
      "['forbes.com', 'example.com', 'subdomain.example.net', 'testsite.org']\n"
     ]
    }
   ],
   "source": [
    "import re\n",
    "\n",
    "def extract_keywords(word, pattern):\n",
    "    matches = re.findall(pattern, word)\n",
    "    if matches:\n",
    "        return matches[0]\n",
    "    else:\n",
    "        return None\n",
    "\n",
    "# Example URLs\n",
    "urls = [\n",
    "    'https://www.forbes.com/sites/forbestechcouncil/2023/11/08/seizing-opportunities-why-companies-should-invest-in-technology-resiliency/',\n",
    "    'http://example.com/path/to/page',\n",
    "    'https://subdomain.example.net/another/path',\n",
    "    'http://www.testsite.org/sample-page'\n",
    "]\n",
    "\n",
    "# Apply the extract_keywords function using the provided regex pattern\n",
    "domains = [extract_keywords(url, r'https?://(?:www\\.)?([^/]+)') for url in urls]\n",
    "\n",
    "print(domains)\n"
   ]
  },
  {
   "cell_type": "code",
   "execution_count": 30,
   "metadata": {},
   "outputs": [
    {
     "data": {
      "text/plain": [
       "url\n",
       "https://www.ibtimes.com/uk-bans-recreational-use-nitrous-oxide-3717885                                                                             2\n",
       "https://www.businessinsider.com/moving-to-mexico-from-us-merida-safety-cost-healthcare-2023-11                                                     2\n",
       "https://readwrite.com/unlock-adtech-with-7-best-ai-tools-in-2023-and-beyond/                                                                       2\n",
       "https://www.forbes.com/sites/forbestechcouncil/2023/11/08/seizing-opportunities-why-companies-should-invest-in-technology-resiliency/              2\n",
       "https://readwrite.com/ibm-bets-500m-on-business-focused-ai-startups/                                                                               2\n",
       "                                                                                                                                                  ..\n",
       "https://www.etfdailynews.com/2023/11/05/enn-energy-otcmktsxngsy-shares-pass-below-fifty-day-moving-average-of-31-27/                               1\n",
       "https://www.etfdailynews.com/2023/11/05/cibc-world-markets-corp-purchases-39329-shares-of-globalfoundries-inc-nasdaqgfs/                           1\n",
       "https://www.etfdailynews.com/2023/11/05/cohu-nasdaqcohu-downgraded-by-stocknews-com-to-hold/                                                       1\n",
       "https://www.etfdailynews.com/2023/11/05/brown-brothers-harriman-co-cuts-holdings-in-taiwan-semiconductor-manufacturing-company-limited-nysetsm/    1\n",
       "https://www.forbes.com/sites/forbesbusinesscouncil/2023/11/29/tips-for-investing-in-short-term-rentals-in-dubai/                                   1\n",
       "Name: count, Length: 54583, dtype: int64"
      ]
     },
     "execution_count": 30,
     "metadata": {},
     "output_type": "execute_result"
    }
   ],
   "source": [
    "df_rating[\"url\"].value_counts()"
   ]
  },
  {
   "cell_type": "code",
   "execution_count": 31,
   "metadata": {},
   "outputs": [
    {
     "data": {
      "text/plain": [
       "Index(['GlobalRank', 'TldRank', 'Domain', 'TLD', 'RefSubNets', 'RefIPs',\n",
       "       'IDN_Domain', 'IDN_TLD', 'PrevGlobalRank', 'PrevTldRank',\n",
       "       'PrevRefSubNets', 'PrevRefIPs'],\n",
       "      dtype='object')"
      ]
     },
     "execution_count": 31,
     "metadata": {},
     "output_type": "execute_result"
    }
   ],
   "source": [
    "df_traffic.columns"
   ]
  },
  {
   "cell_type": "code",
   "execution_count": 32,
   "metadata": {},
   "outputs": [
    {
     "data": {
      "text/plain": [
       "0                     google.com\n",
       "1                   facebook.com\n",
       "2                    youtube.com\n",
       "3                    twitter.com\n",
       "4                  instagram.com\n",
       "                   ...          \n",
       "999995                kireie.com\n",
       "999996               mt-lock.com\n",
       "999997             pinkwater.com\n",
       "999998            soderhomes.com\n",
       "999999    toyotamusicfactory.com\n",
       "Name: domain, Length: 1000000, dtype: object"
      ]
     },
     "execution_count": 32,
     "metadata": {},
     "output_type": "execute_result"
    }
   ],
   "source": [
    "df_traffic.rename(columns={\"Domain\":\"domain\"},inplace=True)\n",
    "df_traffic[\"domain\"]"
   ]
  },
  {
   "cell_type": "code",
   "execution_count": 82,
   "metadata": {},
   "outputs": [
    {
     "name": "stdout",
     "output_type": "stream",
     "text": [
      "0                 forbes.com\n",
      "1        channelnewsasia.com\n",
      "2                   time.com\n",
      "3                   phys.org\n",
      "4          digitaltrends.com\n",
      "                ...         \n",
      "58351      indianexpress.com\n",
      "58352             forbes.com\n",
      "58353                npr.org\n",
      "58354             forbes.com\n",
      "58355             forbes.com\n",
      "Name: domain, Length: 58356, dtype: object\n"
     ]
    }
   ],
   "source": [
    "from urllib.parse import urlparse\n",
    "import re\n",
    "\n",
    "# Function to extract domain using the regex pattern\n",
    "def extract_domain(url):\n",
    "    pattern = r'https?://(?:www\\.)?([^/]+)'\n",
    "    matches = re.findall(pattern, url)\n",
    "    if matches:\n",
    "        return matches[0]\n",
    "    else:\n",
    "        return None\n",
    "\n",
    "\n",
    "df_rating['domain'] = df_rating['url'].apply(extract_domain)\n",
    "\n",
    "print(df_rating['domain'])"
   ]
  },
  {
   "cell_type": "code",
   "execution_count": 85,
   "metadata": {},
   "outputs": [],
   "source": [
    "# Assuming df_traffic also has a 'domain' column\n",
    "df_merge= pd.merge(df_rating,df_traffic, on=\"domain\",how=\"inner\")\n",
    "df_merge_rating_location= pd.merge(df_rating,df_domain_location,on=\"domain\",how=\"inner\")\n",
    "\n",
    "\n"
   ]
  },
  {
   "cell_type": "code",
   "execution_count": 86,
   "metadata": {},
   "outputs": [
    {
     "data": {
      "text/html": [
       "<div>\n",
       "<style scoped>\n",
       "    .dataframe tbody tr th:only-of-type {\n",
       "        vertical-align: middle;\n",
       "    }\n",
       "\n",
       "    .dataframe tbody tr th {\n",
       "        vertical-align: top;\n",
       "    }\n",
       "\n",
       "    .dataframe thead th {\n",
       "        text-align: right;\n",
       "    }\n",
       "</style>\n",
       "<table border=\"1\" class=\"dataframe\">\n",
       "  <thead>\n",
       "    <tr style=\"text-align: right;\">\n",
       "      <th></th>\n",
       "      <th>article_id</th>\n",
       "      <th>source_id</th>\n",
       "      <th>source_name</th>\n",
       "      <th>author</th>\n",
       "      <th>title</th>\n",
       "      <th>description</th>\n",
       "      <th>url</th>\n",
       "      <th>url_to_image</th>\n",
       "      <th>published_at</th>\n",
       "      <th>content</th>\n",
       "      <th>...</th>\n",
       "      <th>TldRank</th>\n",
       "      <th>TLD</th>\n",
       "      <th>RefSubNets</th>\n",
       "      <th>RefIPs</th>\n",
       "      <th>IDN_Domain</th>\n",
       "      <th>IDN_TLD</th>\n",
       "      <th>PrevGlobalRank</th>\n",
       "      <th>PrevTldRank</th>\n",
       "      <th>PrevRefSubNets</th>\n",
       "      <th>PrevRefIPs</th>\n",
       "    </tr>\n",
       "  </thead>\n",
       "  <tbody>\n",
       "    <tr>\n",
       "      <th>0</th>\n",
       "      <td>81664</td>\n",
       "      <td>NaN</td>\n",
       "      <td>Forbes</td>\n",
       "      <td>Elizabeth Brownfield, Contributor, \\n Elizabet...</td>\n",
       "      <td>superstar chef yannick alléno brings refined f...</td>\n",
       "      <td>Now open in Mayfair at Four Seasons Hotel Lond...</td>\n",
       "      <td>https://www.forbes.com/sites/elizabethbrownfie...</td>\n",
       "      <td>https://imageio.forbes.com/specials-images/ima...</td>\n",
       "      <td>2023-11-01 03:27:21.000000</td>\n",
       "      <td>Pavyllon London, at Four Seasons Hotel London ...</td>\n",
       "      <td>...</td>\n",
       "      <td>45</td>\n",
       "      <td>com</td>\n",
       "      <td>95914</td>\n",
       "      <td>239145</td>\n",
       "      <td>forbes.com</td>\n",
       "      <td>com</td>\n",
       "      <td>62</td>\n",
       "      <td>43</td>\n",
       "      <td>95888</td>\n",
       "      <td>237935</td>\n",
       "    </tr>\n",
       "    <tr>\n",
       "      <th>1</th>\n",
       "      <td>81667</td>\n",
       "      <td>NaN</td>\n",
       "      <td>CNA</td>\n",
       "      <td>NaN</td>\n",
       "      <td>nice claim top spot in ligue 1 with late win a...</td>\n",
       "      <td>Nice moved into provisional first place in the...</td>\n",
       "      <td>https://www.channelnewsasia.com/sport/nice-cla...</td>\n",
       "      <td>https://onecms-res.cloudinary.com/image/upload...</td>\n",
       "      <td>2023-10-27 21:28:48.000000</td>\n",
       "      <td>Nice moved into provisional first place in the...</td>\n",
       "      <td>...</td>\n",
       "      <td>970</td>\n",
       "      <td>com</td>\n",
       "      <td>13144</td>\n",
       "      <td>23964</td>\n",
       "      <td>channelnewsasia.com</td>\n",
       "      <td>com</td>\n",
       "      <td>1767</td>\n",
       "      <td>976</td>\n",
       "      <td>13069</td>\n",
       "      <td>23849</td>\n",
       "    </tr>\n",
       "    <tr>\n",
       "      <th>2</th>\n",
       "      <td>81694</td>\n",
       "      <td>time</td>\n",
       "      <td>Time</td>\n",
       "      <td>Christina Larson / AP</td>\n",
       "      <td>amphibians are the world’s most vulnerable spe...</td>\n",
       "      <td>The world’s frogs, salamanders, newts, and oth...</td>\n",
       "      <td>https://time.com/6320467/amphibians-most-vulne...</td>\n",
       "      <td>https://api.time.com/wp-content/uploads/2023/1...</td>\n",
       "      <td>2023-10-04 17:36:18.000000</td>\n",
       "      <td>The worlds frogs, salamanders, newts and other...</td>\n",
       "      <td>...</td>\n",
       "      <td>92</td>\n",
       "      <td>com</td>\n",
       "      <td>58079</td>\n",
       "      <td>133712</td>\n",
       "      <td>time.com</td>\n",
       "      <td>com</td>\n",
       "      <td>135</td>\n",
       "      <td>91</td>\n",
       "      <td>57983</td>\n",
       "      <td>133000</td>\n",
       "    </tr>\n",
       "    <tr>\n",
       "      <th>3</th>\n",
       "      <td>81695</td>\n",
       "      <td>NaN</td>\n",
       "      <td>Phys.Org</td>\n",
       "      <td>Sara Schmidt</td>\n",
       "      <td>image: rusty red waters in madagascar</td>\n",
       "      <td>Iron-rich sediment colors the red-orange water...</td>\n",
       "      <td>https://phys.org/news/2023-10-image-rusty-red-...</td>\n",
       "      <td>https://scx2.b-cdn.net/gfx/news/2023/image-rus...</td>\n",
       "      <td>2023-10-31 18:04:02.000000</td>\n",
       "      <td>Iron-rich sediment colors the red-orange water...</td>\n",
       "      <td>...</td>\n",
       "      <td>77</td>\n",
       "      <td>org</td>\n",
       "      <td>25240</td>\n",
       "      <td>49640</td>\n",
       "      <td>phys.org</td>\n",
       "      <td>org</td>\n",
       "      <td>622</td>\n",
       "      <td>81</td>\n",
       "      <td>25158</td>\n",
       "      <td>49348</td>\n",
       "    </tr>\n",
       "    <tr>\n",
       "      <th>4</th>\n",
       "      <td>81703</td>\n",
       "      <td>NaN</td>\n",
       "      <td>Digital Trends</td>\n",
       "      <td>Jason Struss</td>\n",
       "      <td>everything leaving max (formerly hbo max) in n...</td>\n",
       "      <td>From Gangs of London to Fear the Walking Dead ...</td>\n",
       "      <td>https://www.digitaltrends.com/movies/everythin...</td>\n",
       "      <td>https://www.digitaltrends.com/wp-content/uploa...</td>\n",
       "      <td>2023-10-23 23:09:18.000000</td>\n",
       "      <td>Everything ends. No, I’m not having an existen...</td>\n",
       "      <td>...</td>\n",
       "      <td>416</td>\n",
       "      <td>com</td>\n",
       "      <td>23010</td>\n",
       "      <td>46203</td>\n",
       "      <td>digitaltrends.com</td>\n",
       "      <td>com</td>\n",
       "      <td>716</td>\n",
       "      <td>421</td>\n",
       "      <td>22903</td>\n",
       "      <td>45946</td>\n",
       "    </tr>\n",
       "  </tbody>\n",
       "</table>\n",
       "<p>5 rows × 25 columns</p>\n",
       "</div>"
      ],
      "text/plain": [
       "   article_id source_id     source_name  \\\n",
       "0       81664       NaN          Forbes   \n",
       "1       81667       NaN             CNA   \n",
       "2       81694      time            Time   \n",
       "3       81695       NaN        Phys.Org   \n",
       "4       81703       NaN  Digital Trends   \n",
       "\n",
       "                                              author  \\\n",
       "0  Elizabeth Brownfield, Contributor, \\n Elizabet...   \n",
       "1                                                NaN   \n",
       "2                              Christina Larson / AP   \n",
       "3                                       Sara Schmidt   \n",
       "4                                       Jason Struss   \n",
       "\n",
       "                                               title  \\\n",
       "0  superstar chef yannick alléno brings refined f...   \n",
       "1  nice claim top spot in ligue 1 with late win a...   \n",
       "2  amphibians are the world’s most vulnerable spe...   \n",
       "3              image: rusty red waters in madagascar   \n",
       "4  everything leaving max (formerly hbo max) in n...   \n",
       "\n",
       "                                         description  \\\n",
       "0  Now open in Mayfair at Four Seasons Hotel Lond...   \n",
       "1  Nice moved into provisional first place in the...   \n",
       "2  The world’s frogs, salamanders, newts, and oth...   \n",
       "3  Iron-rich sediment colors the red-orange water...   \n",
       "4  From Gangs of London to Fear the Walking Dead ...   \n",
       "\n",
       "                                                 url  \\\n",
       "0  https://www.forbes.com/sites/elizabethbrownfie...   \n",
       "1  https://www.channelnewsasia.com/sport/nice-cla...   \n",
       "2  https://time.com/6320467/amphibians-most-vulne...   \n",
       "3  https://phys.org/news/2023-10-image-rusty-red-...   \n",
       "4  https://www.digitaltrends.com/movies/everythin...   \n",
       "\n",
       "                                        url_to_image  \\\n",
       "0  https://imageio.forbes.com/specials-images/ima...   \n",
       "1  https://onecms-res.cloudinary.com/image/upload...   \n",
       "2  https://api.time.com/wp-content/uploads/2023/1...   \n",
       "3  https://scx2.b-cdn.net/gfx/news/2023/image-rus...   \n",
       "4  https://www.digitaltrends.com/wp-content/uploa...   \n",
       "\n",
       "                 published_at  \\\n",
       "0  2023-11-01 03:27:21.000000   \n",
       "1  2023-10-27 21:28:48.000000   \n",
       "2  2023-10-04 17:36:18.000000   \n",
       "3  2023-10-31 18:04:02.000000   \n",
       "4  2023-10-23 23:09:18.000000   \n",
       "\n",
       "                                             content  ... TldRank  TLD  \\\n",
       "0  Pavyllon London, at Four Seasons Hotel London ...  ...      45  com   \n",
       "1  Nice moved into provisional first place in the...  ...     970  com   \n",
       "2  The worlds frogs, salamanders, newts and other...  ...      92  com   \n",
       "3  Iron-rich sediment colors the red-orange water...  ...      77  org   \n",
       "4  Everything ends. No, I’m not having an existen...  ...     416  com   \n",
       "\n",
       "  RefSubNets  RefIPs           IDN_Domain  IDN_TLD PrevGlobalRank  \\\n",
       "0      95914  239145           forbes.com      com             62   \n",
       "1      13144   23964  channelnewsasia.com      com           1767   \n",
       "2      58079  133712             time.com      com            135   \n",
       "3      25240   49640             phys.org      org            622   \n",
       "4      23010   46203    digitaltrends.com      com            716   \n",
       "\n",
       "   PrevTldRank  PrevRefSubNets PrevRefIPs  \n",
       "0           43           95888     237935  \n",
       "1          976           13069      23849  \n",
       "2           91           57983     133000  \n",
       "3           81           25158      49348  \n",
       "4          421           22903      45946  \n",
       "\n",
       "[5 rows x 25 columns]"
      ]
     },
     "execution_count": 86,
     "metadata": {},
     "output_type": "execute_result"
    }
   ],
   "source": [
    "df_merge.head()"
   ]
  },
  {
   "cell_type": "code",
   "execution_count": 87,
   "metadata": {},
   "outputs": [
    {
     "data": {
      "text/plain": [
       "1274150"
      ]
     },
     "execution_count": 87,
     "metadata": {},
     "output_type": "execute_result"
    }
   ],
   "source": [
    "df_merge.size"
   ]
  },
  {
   "cell_type": "code",
   "execution_count": 88,
   "metadata": {},
   "outputs": [
    {
     "name": "stdout",
     "output_type": "stream",
     "text": [
      "<class 'pandas.core.frame.DataFrame'>\n",
      "RangeIndex: 50966 entries, 0 to 50965\n",
      "Data columns (total 25 columns):\n",
      " #   Column           Non-Null Count  Dtype \n",
      "---  ------           --------------  ----- \n",
      " 0   article_id       50966 non-null  int64 \n",
      " 1   source_id        10403 non-null  object\n",
      " 2   source_name      50966 non-null  object\n",
      " 3   author           48839 non-null  object\n",
      " 4   title            50966 non-null  object\n",
      " 5   description      50962 non-null  object\n",
      " 6   url              50966 non-null  object\n",
      " 7   url_to_image     47515 non-null  object\n",
      " 8   published_at     50966 non-null  object\n",
      " 9   content          50966 non-null  object\n",
      " 10  category         50948 non-null  object\n",
      " 11  article          50966 non-null  object\n",
      " 12  title_sentiment  50966 non-null  object\n",
      " 13  domain           50966 non-null  object\n",
      " 14  GlobalRank       50966 non-null  int64 \n",
      " 15  TldRank          50966 non-null  int64 \n",
      " 16  TLD              50966 non-null  object\n",
      " 17  RefSubNets       50966 non-null  int64 \n",
      " 18  RefIPs           50966 non-null  int64 \n",
      " 19  IDN_Domain       50966 non-null  object\n",
      " 20  IDN_TLD          50966 non-null  object\n",
      " 21  PrevGlobalRank   50966 non-null  int64 \n",
      " 22  PrevTldRank      50966 non-null  int64 \n",
      " 23  PrevRefSubNets   50966 non-null  int64 \n",
      " 24  PrevRefIPs       50966 non-null  int64 \n",
      "dtypes: int64(9), object(16)\n",
      "memory usage: 9.7+ MB\n"
     ]
    }
   ],
   "source": [
    "df_merge.info()"
   ]
  },
  {
   "cell_type": "markdown",
   "metadata": {},
   "source": [
    "## let's handle the missing values of the df_merge dataframe"
   ]
  },
  {
   "cell_type": "code",
   "execution_count": 89,
   "metadata": {},
   "outputs": [
    {
     "data": {
      "text/plain": [
       "40563"
      ]
     },
     "execution_count": 89,
     "metadata": {},
     "output_type": "execute_result"
    }
   ],
   "source": [
    "df_merge[\"source_id\"].isnull().sum()\n"
   ]
  },
  {
   "cell_type": "code",
   "execution_count": 60,
   "metadata": {},
   "outputs": [
    {
     "name": "stdout",
     "output_type": "stream",
     "text": [
      "{'Time': 'time', 'Al Jazeera English': 'al-jazeera-english', 'BBC News': 'bbc-news', 'RT': 'rt', 'The Times of India': 'the-times-of-india', 'CNN': 'cnn', 'Business Insider': 'business-insider', 'Wired': 'wired', 'The Verge': 'the-verge'}\n"
     ]
    }
   ],
   "source": [
    "# Create a mapping of source_name to source_id based on non-missing values\n",
    "source_mapping = df_merge.dropna(subset=['source_id']).set_index('source_name')['source_id'].to_dict()\n",
    "\n",
    "# Print the mapping to verify\n",
    "print(source_mapping)\n"
   ]
  },
  {
   "cell_type": "code",
   "execution_count": 62,
   "metadata": {},
   "outputs": [],
   "source": [
    "# Impute missing source_id values using the mapping\n",
    "df_merge['source_id'] = df_merge.apply(\n",
    "    lambda row: source_mapping.get(row['source_name'], row['source_id']), axis=1\n",
    ")"
   ]
  },
  {
   "cell_type": "code",
   "execution_count": 63,
   "metadata": {},
   "outputs": [
    {
     "data": {
      "text/plain": [
       "40482"
      ]
     },
     "execution_count": 63,
     "metadata": {},
     "output_type": "execute_result"
    }
   ],
   "source": [
    "df_merge[\"source_id\"].isnull().sum()"
   ]
  },
  {
   "cell_type": "markdown",
   "metadata": {},
   "source": [
    "## No Imputation (Use As Is)\n",
    "Proceed Without Imputation: If the missing values don’t significantly impact my analysis, or if they have meaning (e.g., they indicate the absence of a source ID), i might choose to leave them as NaN and handle them accordingly during analysis"
   ]
  },
  {
   "cell_type": "markdown",
   "metadata": {},
   "source": [
    "For source_id, the most practical approach could be using imputation based on source_name, as discussed earlier. However, if that’s not sufficient, you might consider more advanced techniques like KNN imputation or predictive modeling, or even deciding to exclude the column if it's not critical."
   ]
  },
  {
   "cell_type": "markdown",
   "metadata": {},
   "source": [
    "## 1. Filling Missing Values with a Placeholder\n",
    "Fill with 'Unknown': You can fill the missing author values with a generic placeholder like 'Unknown' or 'Anonymous'. This is a common approach when the missing data is not crucial but needs to be handled for consistency in the dataset."
   ]
  },
  {
   "cell_type": "code",
   "execution_count": 64,
   "metadata": {},
   "outputs": [],
   "source": [
    "df_merge[\"author\"].fillna(\"Unknown\",inplace=True)"
   ]
  },
  {
   "cell_type": "code",
   "execution_count": 65,
   "metadata": {},
   "outputs": [
    {
     "data": {
      "text/plain": [
       "0"
      ]
     },
     "execution_count": 65,
     "metadata": {},
     "output_type": "execute_result"
    }
   ],
   "source": [
    "df_merge[\"author\"].isnull().sum()"
   ]
  },
  {
   "cell_type": "markdown",
   "metadata": {},
   "source": [
    "## handling the missing values in the url_image column"
   ]
  },
  {
   "cell_type": "code",
   "execution_count": 66,
   "metadata": {},
   "outputs": [],
   "source": [
    "df_merge[\"url_to_image\"].fillna(\"no image in the article\", inplace=True)"
   ]
  },
  {
   "cell_type": "code",
   "execution_count": 67,
   "metadata": {},
   "outputs": [
    {
     "data": {
      "text/plain": [
       "0"
      ]
     },
     "execution_count": 67,
     "metadata": {},
     "output_type": "execute_result"
    }
   ],
   "source": [
    "df_merge[\"url_to_image\"].isnull().sum()"
   ]
  },
  {
   "cell_type": "markdown",
   "metadata": {},
   "source": [
    "## handling the missing values of 'df_merge_rating_location'"
   ]
  },
  {
   "cell_type": "markdown",
   "metadata": {},
   "source": [
    "# outlier handling"
   ]
  },
  {
   "cell_type": "code",
   "execution_count": 90,
   "metadata": {},
   "outputs": [
    {
     "data": {
      "text/html": [
       "<div>\n",
       "<style scoped>\n",
       "    .dataframe tbody tr th:only-of-type {\n",
       "        vertical-align: middle;\n",
       "    }\n",
       "\n",
       "    .dataframe tbody tr th {\n",
       "        vertical-align: top;\n",
       "    }\n",
       "\n",
       "    .dataframe thead th {\n",
       "        text-align: right;\n",
       "    }\n",
       "</style>\n",
       "<table border=\"1\" class=\"dataframe\">\n",
       "  <thead>\n",
       "    <tr style=\"text-align: right;\">\n",
       "      <th></th>\n",
       "      <th>article_id</th>\n",
       "      <th>GlobalRank</th>\n",
       "      <th>TldRank</th>\n",
       "      <th>RefSubNets</th>\n",
       "      <th>RefIPs</th>\n",
       "      <th>PrevGlobalRank</th>\n",
       "      <th>PrevTldRank</th>\n",
       "      <th>PrevRefSubNets</th>\n",
       "      <th>PrevRefIPs</th>\n",
       "    </tr>\n",
       "  </thead>\n",
       "  <tbody>\n",
       "    <tr>\n",
       "      <th>count</th>\n",
       "      <td>50966.000000</td>\n",
       "      <td>50966.000000</td>\n",
       "      <td>50966.000000</td>\n",
       "      <td>50966.000000</td>\n",
       "      <td>50966.000000</td>\n",
       "      <td>50966.000000</td>\n",
       "      <td>50966.000000</td>\n",
       "      <td>50966.000000</td>\n",
       "      <td>50966.000000</td>\n",
       "    </tr>\n",
       "    <tr>\n",
       "      <th>mean</th>\n",
       "      <td>290530.159754</td>\n",
       "      <td>21966.704980</td>\n",
       "      <td>10906.355178</td>\n",
       "      <td>24175.955873</td>\n",
       "      <td>54240.172409</td>\n",
       "      <td>22053.882373</td>\n",
       "      <td>10954.746694</td>\n",
       "      <td>24134.832025</td>\n",
       "      <td>53975.242789</td>\n",
       "    </tr>\n",
       "    <tr>\n",
       "      <th>std</th>\n",
       "      <td>214110.511344</td>\n",
       "      <td>29585.024194</td>\n",
       "      <td>14830.727996</td>\n",
       "      <td>27522.778358</td>\n",
       "      <td>68173.376512</td>\n",
       "      <td>29701.762729</td>\n",
       "      <td>14895.459063</td>\n",
       "      <td>27505.837774</td>\n",
       "      <td>67819.950186</td>\n",
       "    </tr>\n",
       "    <tr>\n",
       "      <th>min</th>\n",
       "      <td>418.000000</td>\n",
       "      <td>64.000000</td>\n",
       "      <td>1.000000</td>\n",
       "      <td>1338.000000</td>\n",
       "      <td>1687.000000</td>\n",
       "      <td>62.000000</td>\n",
       "      <td>1.000000</td>\n",
       "      <td>1332.000000</td>\n",
       "      <td>1668.000000</td>\n",
       "    </tr>\n",
       "    <tr>\n",
       "      <th>25%</th>\n",
       "      <td>112005.750000</td>\n",
       "      <td>492.000000</td>\n",
       "      <td>309.000000</td>\n",
       "      <td>1338.000000</td>\n",
       "      <td>1687.000000</td>\n",
       "      <td>496.000000</td>\n",
       "      <td>315.000000</td>\n",
       "      <td>1332.000000</td>\n",
       "      <td>1668.000000</td>\n",
       "    </tr>\n",
       "    <tr>\n",
       "      <th>50%</th>\n",
       "      <td>240150.500000</td>\n",
       "      <td>1115.000000</td>\n",
       "      <td>427.000000</td>\n",
       "      <td>17585.000000</td>\n",
       "      <td>32104.000000</td>\n",
       "      <td>1123.000000</td>\n",
       "      <td>433.000000</td>\n",
       "      <td>17499.000000</td>\n",
       "      <td>32049.000000</td>\n",
       "    </tr>\n",
       "    <tr>\n",
       "      <th>75%</th>\n",
       "      <td>440019.250000</td>\n",
       "      <td>64211.000000</td>\n",
       "      <td>32086.000000</td>\n",
       "      <td>29003.000000</td>\n",
       "      <td>60908.000000</td>\n",
       "      <td>64465.000000</td>\n",
       "      <td>32227.000000</td>\n",
       "      <td>29035.000000</td>\n",
       "      <td>60636.000000</td>\n",
       "    </tr>\n",
       "    <tr>\n",
       "      <th>max</th>\n",
       "      <td>781308.000000</td>\n",
       "      <td>64211.000000</td>\n",
       "      <td>32086.000000</td>\n",
       "      <td>95914.000000</td>\n",
       "      <td>239145.000000</td>\n",
       "      <td>64465.000000</td>\n",
       "      <td>32227.000000</td>\n",
       "      <td>95888.000000</td>\n",
       "      <td>237935.000000</td>\n",
       "    </tr>\n",
       "  </tbody>\n",
       "</table>\n",
       "</div>"
      ],
      "text/plain": [
       "          article_id    GlobalRank       TldRank    RefSubNets         RefIPs  \\\n",
       "count   50966.000000  50966.000000  50966.000000  50966.000000   50966.000000   \n",
       "mean   290530.159754  21966.704980  10906.355178  24175.955873   54240.172409   \n",
       "std    214110.511344  29585.024194  14830.727996  27522.778358   68173.376512   \n",
       "min       418.000000     64.000000      1.000000   1338.000000    1687.000000   \n",
       "25%    112005.750000    492.000000    309.000000   1338.000000    1687.000000   \n",
       "50%    240150.500000   1115.000000    427.000000  17585.000000   32104.000000   \n",
       "75%    440019.250000  64211.000000  32086.000000  29003.000000   60908.000000   \n",
       "max    781308.000000  64211.000000  32086.000000  95914.000000  239145.000000   \n",
       "\n",
       "       PrevGlobalRank   PrevTldRank  PrevRefSubNets     PrevRefIPs  \n",
       "count    50966.000000  50966.000000    50966.000000   50966.000000  \n",
       "mean     22053.882373  10954.746694    24134.832025   53975.242789  \n",
       "std      29701.762729  14895.459063    27505.837774   67819.950186  \n",
       "min         62.000000      1.000000     1332.000000    1668.000000  \n",
       "25%        496.000000    315.000000     1332.000000    1668.000000  \n",
       "50%       1123.000000    433.000000    17499.000000   32049.000000  \n",
       "75%      64465.000000  32227.000000    29035.000000   60636.000000  \n",
       "max      64465.000000  32227.000000    95888.000000  237935.000000  "
      ]
     },
     "execution_count": 90,
     "metadata": {},
     "output_type": "execute_result"
    }
   ],
   "source": [
    "df_merge.describe()"
   ]
  },
  {
   "cell_type": "markdown",
   "metadata": {},
   "source": [
    "### Assessing Potential Outliers\n",
    "\n",
    "- **Large Standard Deviation**:\n",
    "  - Columns like `GlobalRank`, `TldRank`, `RefSubNets`, and `RefIPs` have a large standard deviation compared to their mean, suggesting that there may be significant variability in the data, which could be due to outliers.\n",
    "\n",
    "- **Min and Max Values**:\n",
    "  - The minimum and maximum values in many columns (e.g., `GlobalRank`, `PrevGlobalRank`) are quite far apart. For instance, `GlobalRank` ranges from 64 to 64,211, and `RefSubNets` from 1,338 to 95,914, which suggests the presence of extreme values.\n",
    "\n",
    "- **Percentiles**:\n",
    "  - The difference between the 75th percentile (`Q3`) and the maximum value is significant in many columns. This indicates that the top 25% of the data might include outliers, especially if the maximum value is much higher than `Q3`.\n"
   ]
  },
  {
   "cell_type": "markdown",
   "metadata": {},
   "source": [
    "### Handling Outliers: Context and Analysis Goals\n",
    "\n",
    "In the context of our analysis, where the focus is on understanding and identifying extreme behavior, such as the most influential domains, it is crucial to carefully consider the treatment of outliers.\n",
    "\n",
    "- **Context**: \n",
    "  - Many of the metrics we are analyzing, such as `GlobalRank`, `TldRank`, `RefSubNets`, and `RefIPs`, are part of a ranking system or represent measures of influence and reach. In these contexts, outliers often represent valuable data points rather than errors. For example, a domain with an exceptionally low `GlobalRank` is likely to be one of the most influential websites globally. Similarly, very high values in `RefSubNets` or `RefIPs` may indicate a domain with a vast and diverse backlink network, which is important for understanding its influence.\n",
    "\n",
    "- **Analysis Goals**:\n",
    "  - The primary goal of our analysis is to understand extreme behaviors and identify key players within the dataset, such as the most influential domains. In this case, outliers are not anomalies that need to be corrected or removed, but rather crucial data points that provide insight into the upper or lower bounds of influence within the dataset. Therefore, these outliers should be retained and carefully analyzed, as they contribute significantly to the overall understanding of the data landscape.\n",
    "\n",
    "Given this context and the goals of the analysis, we will focus on retaining outliers and treating them as significant indicators of influence or importance within the dataset. This approach allows us to gain a comprehensive understanding of the most extreme and impactful data points, which are central to our analytical objectives.\n"
   ]
  },
  {
   "cell_type": "markdown",
   "metadata": {},
   "source": [
    "# duplicate rows"
   ]
  },
  {
   "cell_type": "code",
   "execution_count": 92,
   "metadata": {},
   "outputs": [
    {
     "data": {
      "text/plain": [
       "3305"
      ]
     },
     "execution_count": 92,
     "metadata": {},
     "output_type": "execute_result"
    }
   ],
   "source": [
    "df_merge.duplicated().sum()"
   ]
  },
  {
   "cell_type": "code",
   "execution_count": 96,
   "metadata": {},
   "outputs": [],
   "source": [
    "# Identify full duplicates\n",
    "duplicates = df_merge[df_merge.duplicated()]\n",
    "\n",
    "# Identify partial duplicates based on certain columns (e.g., 'article_id', 'url')\n",
    "partial_duplicates = df_merge[df_merge.duplicated(subset=['article_id', 'url'])]\n"
   ]
  },
  {
   "cell_type": "code",
   "execution_count": 98,
   "metadata": {},
   "outputs": [
    {
     "data": {
      "text/html": [
       "<div>\n",
       "<style scoped>\n",
       "    .dataframe tbody tr th:only-of-type {\n",
       "        vertical-align: middle;\n",
       "    }\n",
       "\n",
       "    .dataframe tbody tr th {\n",
       "        vertical-align: top;\n",
       "    }\n",
       "\n",
       "    .dataframe thead th {\n",
       "        text-align: right;\n",
       "    }\n",
       "</style>\n",
       "<table border=\"1\" class=\"dataframe\">\n",
       "  <thead>\n",
       "    <tr style=\"text-align: right;\">\n",
       "      <th></th>\n",
       "      <th>article_id</th>\n",
       "      <th>source_id</th>\n",
       "      <th>source_name</th>\n",
       "      <th>author</th>\n",
       "      <th>title</th>\n",
       "      <th>description</th>\n",
       "      <th>url</th>\n",
       "      <th>url_to_image</th>\n",
       "      <th>published_at</th>\n",
       "      <th>content</th>\n",
       "      <th>...</th>\n",
       "      <th>TldRank</th>\n",
       "      <th>TLD</th>\n",
       "      <th>RefSubNets</th>\n",
       "      <th>RefIPs</th>\n",
       "      <th>IDN_Domain</th>\n",
       "      <th>IDN_TLD</th>\n",
       "      <th>PrevGlobalRank</th>\n",
       "      <th>PrevTldRank</th>\n",
       "      <th>PrevRefSubNets</th>\n",
       "      <th>PrevRefIPs</th>\n",
       "    </tr>\n",
       "  </thead>\n",
       "  <tbody>\n",
       "    <tr>\n",
       "      <th>14405</th>\n",
       "      <td>147571</td>\n",
       "      <td>bbc-news</td>\n",
       "      <td>BBC News</td>\n",
       "      <td>https://www.facebook.com/bbcnews</td>\n",
       "      <td>Veteran magician David Berglas dies aged 97</td>\n",
       "      <td>David Berglas, one of the most prominent magic...</td>\n",
       "      <td>https://www.bbc.co.uk/news/uk-england-london-6...</td>\n",
       "      <td>https://ichef.bbci.co.uk/news/1024/branded_new...</td>\n",
       "      <td>2023-11-04 10:40:38</td>\n",
       "      <td>David Berglas, one of the most influential mag...</td>\n",
       "      <td>...</td>\n",
       "      <td>1</td>\n",
       "      <td>uk</td>\n",
       "      <td>79052</td>\n",
       "      <td>193173</td>\n",
       "      <td>bbc.co.uk</td>\n",
       "      <td>uk</td>\n",
       "      <td>88</td>\n",
       "      <td>1</td>\n",
       "      <td>78873</td>\n",
       "      <td>192022</td>\n",
       "    </tr>\n",
       "    <tr>\n",
       "      <th>14406</th>\n",
       "      <td>148723</td>\n",
       "      <td>bbc-news</td>\n",
       "      <td>BBC News</td>\n",
       "      <td>https://www.facebook.com/bbcnews</td>\n",
       "      <td>Deadly earthquake strikes remote western Nepal</td>\n",
       "      <td>Security forces are helping rescue efforts in ...</td>\n",
       "      <td>https://www.bbc.co.uk/news/world-asia-67317442</td>\n",
       "      <td>https://ichef.bbci.co.uk/news/1024/branded_new...</td>\n",
       "      <td>2023-11-04 02:46:53</td>\n",
       "      <td>More than 100 people have been killed after an...</td>\n",
       "      <td>...</td>\n",
       "      <td>1</td>\n",
       "      <td>uk</td>\n",
       "      <td>79052</td>\n",
       "      <td>193173</td>\n",
       "      <td>bbc.co.uk</td>\n",
       "      <td>uk</td>\n",
       "      <td>88</td>\n",
       "      <td>1</td>\n",
       "      <td>78873</td>\n",
       "      <td>192022</td>\n",
       "    </tr>\n",
       "    <tr>\n",
       "      <th>14407</th>\n",
       "      <td>134945</td>\n",
       "      <td>bbc-news</td>\n",
       "      <td>BBC News</td>\n",
       "      <td>https://www.facebook.com/bbcnews</td>\n",
       "      <td>An English teacher who fled the Taliban finds ...</td>\n",
       "      <td>In 2019, the BBC met an Afghan trapped in a re...</td>\n",
       "      <td>https://www.bbc.co.uk/news/world-us-canada-671...</td>\n",
       "      <td>https://ichef.bbci.co.uk/news/1024/branded_new...</td>\n",
       "      <td>2023-11-04 00:42:00</td>\n",
       "      <td>In November 2019, the BBC reported on Shams Er...</td>\n",
       "      <td>...</td>\n",
       "      <td>1</td>\n",
       "      <td>uk</td>\n",
       "      <td>79052</td>\n",
       "      <td>193173</td>\n",
       "      <td>bbc.co.uk</td>\n",
       "      <td>uk</td>\n",
       "      <td>88</td>\n",
       "      <td>1</td>\n",
       "      <td>78873</td>\n",
       "      <td>192022</td>\n",
       "    </tr>\n",
       "    <tr>\n",
       "      <th>14431</th>\n",
       "      <td>135094</td>\n",
       "      <td>NaN</td>\n",
       "      <td>Phys.Org</td>\n",
       "      <td>Science X</td>\n",
       "      <td>Plastic waste in rivers may carry dangerous mi...</td>\n",
       "      <td>Plastic litter in rivers might be allowing dan...</td>\n",
       "      <td>https://phys.org/news/2023-11-plastic-rivers-d...</td>\n",
       "      <td>https://scx2.b-cdn.net/gfx/news/hires/2022/riv...</td>\n",
       "      <td>2023-11-04 13:10:01</td>\n",
       "      <td>Plastic litter in rivers might be allowing dan...</td>\n",
       "      <td>...</td>\n",
       "      <td>77</td>\n",
       "      <td>org</td>\n",
       "      <td>25240</td>\n",
       "      <td>49640</td>\n",
       "      <td>phys.org</td>\n",
       "      <td>org</td>\n",
       "      <td>622</td>\n",
       "      <td>81</td>\n",
       "      <td>25158</td>\n",
       "      <td>49348</td>\n",
       "    </tr>\n",
       "    <tr>\n",
       "      <th>14442</th>\n",
       "      <td>135256</td>\n",
       "      <td>al-jazeera-english</td>\n",
       "      <td>Al Jazeera English</td>\n",
       "      <td>Moira Lavelle</td>\n",
       "      <td>After Golden Dawn’s demise, a dangerous new fa...</td>\n",
       "      <td>Far-right strands are organising, but experts ...</td>\n",
       "      <td>https://www.aljazeera.com/news/2023/11/4/greek...</td>\n",
       "      <td>https://www.aljazeera.com/wp-content/uploads/2...</td>\n",
       "      <td>2023-11-04 06:56:51</td>\n",
       "      <td>Athens, Greece Far-right activists and neo-Naz...</td>\n",
       "      <td>...</td>\n",
       "      <td>321</td>\n",
       "      <td>com</td>\n",
       "      <td>28446</td>\n",
       "      <td>60793</td>\n",
       "      <td>aljazeera.com</td>\n",
       "      <td>com</td>\n",
       "      <td>519</td>\n",
       "      <td>326</td>\n",
       "      <td>28403</td>\n",
       "      <td>60591</td>\n",
       "    </tr>\n",
       "  </tbody>\n",
       "</table>\n",
       "<p>5 rows × 25 columns</p>\n",
       "</div>"
      ],
      "text/plain": [
       "       article_id           source_id         source_name  \\\n",
       "14405      147571            bbc-news            BBC News   \n",
       "14406      148723            bbc-news            BBC News   \n",
       "14407      134945            bbc-news            BBC News   \n",
       "14431      135094                 NaN            Phys.Org   \n",
       "14442      135256  al-jazeera-english  Al Jazeera English   \n",
       "\n",
       "                                 author  \\\n",
       "14405  https://www.facebook.com/bbcnews   \n",
       "14406  https://www.facebook.com/bbcnews   \n",
       "14407  https://www.facebook.com/bbcnews   \n",
       "14431                         Science X   \n",
       "14442                     Moira Lavelle   \n",
       "\n",
       "                                                   title  \\\n",
       "14405        Veteran magician David Berglas dies aged 97   \n",
       "14406     Deadly earthquake strikes remote western Nepal   \n",
       "14407  An English teacher who fled the Taliban finds ...   \n",
       "14431  Plastic waste in rivers may carry dangerous mi...   \n",
       "14442  After Golden Dawn’s demise, a dangerous new fa...   \n",
       "\n",
       "                                             description  \\\n",
       "14405  David Berglas, one of the most prominent magic...   \n",
       "14406  Security forces are helping rescue efforts in ...   \n",
       "14407  In 2019, the BBC met an Afghan trapped in a re...   \n",
       "14431  Plastic litter in rivers might be allowing dan...   \n",
       "14442  Far-right strands are organising, but experts ...   \n",
       "\n",
       "                                                     url  \\\n",
       "14405  https://www.bbc.co.uk/news/uk-england-london-6...   \n",
       "14406     https://www.bbc.co.uk/news/world-asia-67317442   \n",
       "14407  https://www.bbc.co.uk/news/world-us-canada-671...   \n",
       "14431  https://phys.org/news/2023-11-plastic-rivers-d...   \n",
       "14442  https://www.aljazeera.com/news/2023/11/4/greek...   \n",
       "\n",
       "                                            url_to_image         published_at  \\\n",
       "14405  https://ichef.bbci.co.uk/news/1024/branded_new...  2023-11-04 10:40:38   \n",
       "14406  https://ichef.bbci.co.uk/news/1024/branded_new...  2023-11-04 02:46:53   \n",
       "14407  https://ichef.bbci.co.uk/news/1024/branded_new...  2023-11-04 00:42:00   \n",
       "14431  https://scx2.b-cdn.net/gfx/news/hires/2022/riv...  2023-11-04 13:10:01   \n",
       "14442  https://www.aljazeera.com/wp-content/uploads/2...  2023-11-04 06:56:51   \n",
       "\n",
       "                                                 content  ... TldRank  TLD  \\\n",
       "14405  David Berglas, one of the most influential mag...  ...       1   uk   \n",
       "14406  More than 100 people have been killed after an...  ...       1   uk   \n",
       "14407  In November 2019, the BBC reported on Shams Er...  ...       1   uk   \n",
       "14431  Plastic litter in rivers might be allowing dan...  ...      77  org   \n",
       "14442  Athens, Greece Far-right activists and neo-Naz...  ...     321  com   \n",
       "\n",
       "      RefSubNets  RefIPs     IDN_Domain  IDN_TLD PrevGlobalRank  PrevTldRank  \\\n",
       "14405      79052  193173      bbc.co.uk       uk             88            1   \n",
       "14406      79052  193173      bbc.co.uk       uk             88            1   \n",
       "14407      79052  193173      bbc.co.uk       uk             88            1   \n",
       "14431      25240   49640       phys.org      org            622           81   \n",
       "14442      28446   60793  aljazeera.com      com            519          326   \n",
       "\n",
       "       PrevRefSubNets PrevRefIPs  \n",
       "14405           78873     192022  \n",
       "14406           78873     192022  \n",
       "14407           78873     192022  \n",
       "14431           25158      49348  \n",
       "14442           28403      60591  \n",
       "\n",
       "[5 rows x 25 columns]"
      ]
     },
     "execution_count": 98,
     "metadata": {},
     "output_type": "execute_result"
    }
   ],
   "source": [
    "duplicates.head()"
   ]
  },
  {
   "cell_type": "markdown",
   "metadata": {},
   "source": [
    "### Decision: Keep All Records\n",
    "\n",
    "Each article in the dataset is unique and contributes valuable information. Therefore, all records will be retained in the dataset to ensure a comprehensive analysis.\n"
   ]
  },
  {
   "cell_type": "code",
   "execution_count": 39,
   "metadata": {},
   "outputs": [
    {
     "data": {
      "text/html": [
       "<div>\n",
       "<style scoped>\n",
       "    .dataframe tbody tr th:only-of-type {\n",
       "        vertical-align: middle;\n",
       "    }\n",
       "\n",
       "    .dataframe tbody tr th {\n",
       "        vertical-align: top;\n",
       "    }\n",
       "\n",
       "    .dataframe thead th {\n",
       "        text-align: right;\n",
       "    }\n",
       "</style>\n",
       "<table border=\"1\" class=\"dataframe\">\n",
       "  <thead>\n",
       "    <tr style=\"text-align: right;\">\n",
       "      <th></th>\n",
       "      <th>article_id</th>\n",
       "      <th>source_id</th>\n",
       "      <th>source_name</th>\n",
       "      <th>author</th>\n",
       "      <th>title</th>\n",
       "      <th>description</th>\n",
       "      <th>url</th>\n",
       "      <th>url_to_image</th>\n",
       "      <th>published_at</th>\n",
       "      <th>content</th>\n",
       "      <th>category</th>\n",
       "      <th>article</th>\n",
       "      <th>title_sentiment</th>\n",
       "      <th>domain</th>\n",
       "    </tr>\n",
       "  </thead>\n",
       "  <tbody>\n",
       "    <tr>\n",
       "      <th>58351</th>\n",
       "      <td>781108</td>\n",
       "      <td>NaN</td>\n",
       "      <td>The Indian Express</td>\n",
       "      <td>PTI</td>\n",
       "      <td>Have done no wrong, only did party work, says ...</td>\n",
       "      <td>The High Court today allowed Shivakumar to wit...</td>\n",
       "      <td>https://indianexpress.com/article/cities/banga...</td>\n",
       "      <td>https://images.indianexpress.com/2023/11/DK-Sh...</td>\n",
       "      <td>2023-11-29 10:57:22</td>\n",
       "      <td>Karnataka Deputy Chief Minister D K Shivakumar...</td>\n",
       "      <td>Home</td>\n",
       "      <td>Karnataka Deputy Chief Minister D K Shivakumar...</td>\n",
       "      <td>Neutral</td>\n",
       "      <td>indianexpress.com</td>\n",
       "    </tr>\n",
       "    <tr>\n",
       "      <th>58352</th>\n",
       "      <td>781129</td>\n",
       "      <td>NaN</td>\n",
       "      <td>Forbes</td>\n",
       "      <td>Tom Sanderson, Senior Contributor, \\n Tom Sand...</td>\n",
       "      <td>FC Barcelona Guarantees $77.6 Million Champion...</td>\n",
       "      <td>FC Barcelona have guaranteed at least $77.6 mi...</td>\n",
       "      <td>https://www.forbes.com/sites/tomsanderson/2023...</td>\n",
       "      <td>https://imageio.forbes.com/specials-images/ima...</td>\n",
       "      <td>2023-11-29 08:41:18</td>\n",
       "      <td>FC Barcelona have guaranteed at least $767.6 m...</td>\n",
       "      <td>Home</td>\n",
       "      <td>FC Barcelona have guaranteed at least $767.6 m...</td>\n",
       "      <td>Neutral</td>\n",
       "      <td>forbes.com</td>\n",
       "    </tr>\n",
       "    <tr>\n",
       "      <th>58353</th>\n",
       "      <td>781235</td>\n",
       "      <td>NaN</td>\n",
       "      <td>NPR</td>\n",
       "      <td>Brigid McCarthy</td>\n",
       "      <td>Three hospitals ignored her gravely ill fiancé...</td>\n",
       "      <td>Forty years ago, Sarah Lubarsky came home from...</td>\n",
       "      <td>https://www.npr.org/2023/11/29/1215016001/heal...</td>\n",
       "      <td>https://media.npr.org/assets/img/2023/11/23/sa...</td>\n",
       "      <td>2023-11-29 10:01:12</td>\n",
       "      <td>The photo from David and Sarah Lubarsky's wedd...</td>\n",
       "      <td>Home</td>\n",
       "      <td>The photo from David and Sarah Lubarsky's wedd...</td>\n",
       "      <td>Negative</td>\n",
       "      <td>npr.org</td>\n",
       "    </tr>\n",
       "    <tr>\n",
       "      <th>58354</th>\n",
       "      <td>781240</td>\n",
       "      <td>NaN</td>\n",
       "      <td>Forbes</td>\n",
       "      <td>Gary Stern, Contributor, \\n Gary Stern, Contri...</td>\n",
       "      <td>Kerber’s Farm: Bringing Farm To Table To Manha...</td>\n",
       "      <td>A farmstand in Long Island, Kerber’s Farms has...</td>\n",
       "      <td>https://www.forbes.com/sites/garystern/2023/11...</td>\n",
       "      <td>https://imageio.forbes.com/specials-images/ima...</td>\n",
       "      <td>2023-11-29 13:44:33</td>\n",
       "      <td>Kerbers Farm: Bringing Farm To Table To Manhat...</td>\n",
       "      <td>Home</td>\n",
       "      <td>Kerber’s Farm: Bringing Farm To Table To Manha...</td>\n",
       "      <td>Neutral</td>\n",
       "      <td>forbes.com</td>\n",
       "    </tr>\n",
       "    <tr>\n",
       "      <th>58355</th>\n",
       "      <td>781308</td>\n",
       "      <td>NaN</td>\n",
       "      <td>Forbes</td>\n",
       "      <td>Johan Hajji, Forbes Councils Member, \\n Johan ...</td>\n",
       "      <td>Tips For Investing In Short-Term Rentals In Dubai</td>\n",
       "      <td>By exploring your options and keeping a few be...</td>\n",
       "      <td>https://www.forbes.com/sites/forbesbusinesscou...</td>\n",
       "      <td>https://imageio.forbes.com/specials-images/ima...</td>\n",
       "      <td>2023-11-29 14:00:00</td>\n",
       "      <td>Cofounder at UpperKey. Passionate about proper...</td>\n",
       "      <td>Home</td>\n",
       "      <td>Cofounder at UpperKey. Passionate about proper...</td>\n",
       "      <td>Neutral</td>\n",
       "      <td>forbes.com</td>\n",
       "    </tr>\n",
       "  </tbody>\n",
       "</table>\n",
       "</div>"
      ],
      "text/plain": [
       "       article_id source_id         source_name  \\\n",
       "58351      781108       NaN  The Indian Express   \n",
       "58352      781129       NaN              Forbes   \n",
       "58353      781235       NaN                 NPR   \n",
       "58354      781240       NaN              Forbes   \n",
       "58355      781308       NaN              Forbes   \n",
       "\n",
       "                                                  author  \\\n",
       "58351                                                PTI   \n",
       "58352  Tom Sanderson, Senior Contributor, \\n Tom Sand...   \n",
       "58353                                    Brigid McCarthy   \n",
       "58354  Gary Stern, Contributor, \\n Gary Stern, Contri...   \n",
       "58355  Johan Hajji, Forbes Councils Member, \\n Johan ...   \n",
       "\n",
       "                                                   title  \\\n",
       "58351  Have done no wrong, only did party work, says ...   \n",
       "58352  FC Barcelona Guarantees $77.6 Million Champion...   \n",
       "58353  Three hospitals ignored her gravely ill fiancé...   \n",
       "58354  Kerber’s Farm: Bringing Farm To Table To Manha...   \n",
       "58355  Tips For Investing In Short-Term Rentals In Dubai   \n",
       "\n",
       "                                             description  \\\n",
       "58351  The High Court today allowed Shivakumar to wit...   \n",
       "58352  FC Barcelona have guaranteed at least $77.6 mi...   \n",
       "58353  Forty years ago, Sarah Lubarsky came home from...   \n",
       "58354  A farmstand in Long Island, Kerber’s Farms has...   \n",
       "58355  By exploring your options and keeping a few be...   \n",
       "\n",
       "                                                     url  \\\n",
       "58351  https://indianexpress.com/article/cities/banga...   \n",
       "58352  https://www.forbes.com/sites/tomsanderson/2023...   \n",
       "58353  https://www.npr.org/2023/11/29/1215016001/heal...   \n",
       "58354  https://www.forbes.com/sites/garystern/2023/11...   \n",
       "58355  https://www.forbes.com/sites/forbesbusinesscou...   \n",
       "\n",
       "                                            url_to_image         published_at  \\\n",
       "58351  https://images.indianexpress.com/2023/11/DK-Sh...  2023-11-29 10:57:22   \n",
       "58352  https://imageio.forbes.com/specials-images/ima...  2023-11-29 08:41:18   \n",
       "58353  https://media.npr.org/assets/img/2023/11/23/sa...  2023-11-29 10:01:12   \n",
       "58354  https://imageio.forbes.com/specials-images/ima...  2023-11-29 13:44:33   \n",
       "58355  https://imageio.forbes.com/specials-images/ima...  2023-11-29 14:00:00   \n",
       "\n",
       "                                                 content category  \\\n",
       "58351  Karnataka Deputy Chief Minister D K Shivakumar...     Home   \n",
       "58352  FC Barcelona have guaranteed at least $767.6 m...     Home   \n",
       "58353  The photo from David and Sarah Lubarsky's wedd...     Home   \n",
       "58354  Kerbers Farm: Bringing Farm To Table To Manhat...     Home   \n",
       "58355  Cofounder at UpperKey. Passionate about proper...     Home   \n",
       "\n",
       "                                                 article title_sentiment  \\\n",
       "58351  Karnataka Deputy Chief Minister D K Shivakumar...         Neutral   \n",
       "58352  FC Barcelona have guaranteed at least $767.6 m...         Neutral   \n",
       "58353  The photo from David and Sarah Lubarsky's wedd...        Negative   \n",
       "58354  Kerber’s Farm: Bringing Farm To Table To Manha...         Neutral   \n",
       "58355  Cofounder at UpperKey. Passionate about proper...         Neutral   \n",
       "\n",
       "                  domain  \n",
       "58351  indianexpress.com  \n",
       "58352         forbes.com  \n",
       "58353            npr.org  \n",
       "58354         forbes.com  \n",
       "58355         forbes.com  "
      ]
     },
     "execution_count": 39,
     "metadata": {},
     "output_type": "execute_result"
    }
   ],
   "source": [
    "df_rating.tail()"
   ]
  },
  {
   "cell_type": "markdown",
   "metadata": {},
   "source": [
    "## Websites that have the largest count of news articles"
   ]
  },
  {
   "cell_type": "code",
   "execution_count": 103,
   "metadata": {},
   "outputs": [
    {
     "name": "stdout",
     "output_type": "stream",
     "text": [
      "source_name\n",
      "ETF Daily News        16746\n",
      "GlobeNewswire          5423\n",
      "Globalsecurity.org     3119\n",
      "Forbes                 2784\n",
      "The Times of India     2194\n",
      "BBC News               2113\n",
      "Business Insider       2034\n",
      "The Punch              1800\n",
      "Al Jazeera English     1664\n",
      "Marketscreener.com     1362\n",
      "Name: count, dtype: int64\n"
     ]
    },
    {
     "data": {
      "image/png": "[encoded data removed]",
      "text/plain": [
       "<Figure size 800x400 with 1 Axes>"
      ]
     },
     "metadata": {},
     "output_type": "display_data"
    }
   ],
   "source": [
    "top_source_frequency=df_merge[\"source_name\"].value_counts().head(10)\n",
    "print(top_source_frequency)\n",
    "plt.figure(figsize=(8,4))\n",
    "top_source_frequency.plot(kind='bar' )\n",
    "\n",
    "plt.title(\"top source frequency graph\")\n",
    "plt.xlabel(\"top_source_frequency\")\n",
    "plt.ylabel(\"frequency\")\n",
    "\n",
    "plt.show()"
   ]
  },
  {
   "cell_type": "markdown",
   "metadata": {},
   "source": [
    "## Websites with the highest numbers of visitors traffic "
   ]
  },
  {
   "cell_type": "code",
   "execution_count": 109,
   "metadata": {},
   "outputs": [
    {
     "name": "stdout",
     "output_type": "stream",
     "text": [
      "                 domain  GlobalRank\n",
      "13           forbes.com          64\n",
      "8               cnn.com          78\n",
      "3             bbc.co.uk          87\n",
      "4               bbc.com          92\n",
      "6   businessinsider.com         115\n",
      "26             time.com         137\n",
      "20              npr.org         147\n",
      "28            wired.com         148\n",
      "25         theverge.com         202\n",
      "14          gizmodo.com         403\n"
     ]
    }
   ],
   "source": [
    "# Group by domain and select the best GlobalRank for each unique domain\n",
    "grouped_df = df_merge.groupby('domain').agg({'GlobalRank': 'min'}).reset_index()\n",
    "\n",
    "# Sort the grouped data by GlobalRank to get the top 10 websites\n",
    "top_websites = grouped_df.sort_values(by='GlobalRank', ascending=True).head(10)\n",
    "\n",
    "# Display the top 10 domains with the highest traffic\n",
    "print(top_websites[['domain', 'GlobalRank']])\n"
   ]
  },
  {
   "cell_type": "markdown",
   "metadata": {},
   "source": [
    "## due to the fact that some domain have lost during the merging process we should use the original dataset with the domain colunmn added to it"
   ]
  },
  {
   "cell_type": "code",
   "execution_count": 110,
   "metadata": {},
   "outputs": [
    {
     "name": "stdout",
     "output_type": "stream",
     "text": [
      "                 domain  GlobalRank\n",
      "0            google.com           1\n",
      "1          facebook.com           2\n",
      "2           youtube.com           3\n",
      "3           twitter.com           4\n",
      "4         instagram.com           5\n",
      "5          linkedin.com           6\n",
      "6             apple.com           7\n",
      "7         microsoft.com           8\n",
      "8  googletagmanager.com           9\n",
      "9         wikipedia.org          10\n"
     ]
    }
   ],
   "source": [
    "# Check the original top-ranked domains before any merging\n",
    "top_global_ranks = df_traffic.sort_values(by='GlobalRank', ascending=True).head(10)\n",
    "print(top_global_ranks[['domain', 'GlobalRank']])\n"
   ]
  },
  {
   "cell_type": "markdown",
   "metadata": {},
   "source": [
    "## Countries with the highest number of news media organisations (represented by domains in the data)"
   ]
  },
  {
   "cell_type": "code",
   "execution_count": 111,
   "metadata": {},
   "outputs": [],
   "source": [
    "# Example: Standardizing the country column\n",
    "df_merge_rating_location['Country'] = df_merge_rating_location['Country'].str.lower().str.strip()\n"
   ]
  },
  {
   "cell_type": "code",
   "execution_count": 113,
   "metadata": {},
   "outputs": [],
   "source": [
    "# Group by country and count the number of unique domains\n",
    "country_counts = df_merge_rating_location.groupby('Country')['domain'].nunique().reset_index()\n",
    "\n",
    "# Rename columns for clarity\n",
    "country_counts.columns = ['Country', 'NumDomains']\n"
   ]
  },
  {
   "cell_type": "code",
   "execution_count": 114,
   "metadata": {},
   "outputs": [
    {
     "name": "stdout",
     "output_type": "stream",
     "text": [
      "          Country  NumDomains\n",
      "4   united states          20\n",
      "1         nigeria           2\n",
      "3  united kingdom           2\n",
      "0           india           1\n",
      "2          russia           1\n"
     ]
    }
   ],
   "source": [
    "# Sort the countries by the number of domains in descending order\n",
    "top_countries = country_counts.sort_values(by='NumDomains', ascending=False).head(10)\n",
    "\n",
    "# Display the top countries\n",
    "print(top_countries)\n"
   ]
  },
  {
   "cell_type": "code",
   "execution_count": 117,
   "metadata": {},
   "outputs": [
    {
     "name": "stdout",
     "output_type": "stream",
     "text": [
      "    Location  NumDomains\n",
      "210       US       14111\n",
      "208       UK        1946\n",
      "98        IT        1804\n",
      "70        FR        1039\n",
      "172       RS        1020\n",
      "34        CA         886\n",
      "79        GM         884\n",
      "40        CH         779\n",
      "202       TU         725\n",
      "94        IN         686\n"
     ]
    }
   ],
   "source": [
    "# Group by location and count the number of unique domains\n",
    "location_counts = df_domain_location.groupby('location')['domain'].nunique().reset_index()\n",
    "\n",
    "# Rename columns for clarity\n",
    "location_counts.columns = ['Location', 'NumDomains']\n",
    "\n",
    "# Sort the locations by the number of domains in descending order\n",
    "top_locations = location_counts.sort_values(by='NumDomains', ascending=False).head(10)\n",
    "\n",
    "# Display the top locations\n",
    "print(top_locations)\n"
   ]
  },
  {
   "cell_type": "markdown",
   "metadata": {},
   "source": [
    "US: 14,111 domains\n",
    "\n",
    "UK: 1,946 domains\n",
    "\n",
    "IT (Italy): 1,804 domains\n",
    "\n",
    "FR (France): 1,039 domains\n",
    "\n",
    "RS (Russia/Serbia): 1,020 domains\n",
    "\n",
    "CA (Canada): 886 domains\n",
    "\n",
    "GM (Germany): 884 domains\n",
    "\n",
    "CH (China/Switzerland): 779 domains\n",
    "\n",
    "TU (Turkey/Tunisia): 725 domains\n",
    "\n",
    "IN (India): 686 domains"
   ]
  },
  {
   "cell_type": "code",
   "execution_count": 124,
   "metadata": {},
   "outputs": [
    {
     "name": "stderr",
     "output_type": "stream",
     "text": [
      "C:\\Users\\user\\AppData\\Local\\Temp\\ipykernel_13900\\320555506.py:4: FutureWarning: \n",
      "\n",
      "Passing `palette` without assigning `hue` is deprecated and will be removed in v0.14.0. Assign the `x` variable to `hue` and set `legend=False` for the same effect.\n",
      "\n",
      "  sns.barplot(x='Location', y='NumDomains', data=top_locations, palette='viridis')\n"
     ]
    },
    {
     "data": {
      "image/png": "[encoded data removed]",
      "text/plain": [
       "<Figure size 1200x800 with 1 Axes>"
      ]
     },
     "metadata": {},
     "output_type": "display_data"
    }
   ],
   "source": [
    "plt.figure(figsize=(12, 8))\n",
    "\n",
    "# Create a barplot for the top locations\n",
    "sns.barplot(x='Location', y='NumDomains', data=top_locations, palette='viridis')\n",
    "\n",
    "# Set the labels and title\n",
    "plt.xlabel('Location')\n",
    "plt.ylabel('Number of Domains')\n",
    "plt.title('Top 10 Locations with the Highest Number of News Media Organizations')\n",
    "plt.show()"
   ]
  },
  {
   "cell_type": "markdown",
   "metadata": {},
   "source": []
  },
  {
   "cell_type": "code",
   "execution_count": 125,
   "metadata": {},
   "outputs": [
    {
     "name": "stdout",
     "output_type": "stream",
     "text": [
      "Collecting en-core-web-sm==3.7.1\n",
      "  Downloading https://github.com/explosion/spacy-models/releases/download/en_core_web_sm-3.7.1/en_core_web_sm-3.7.1-py3-none-any.whl (12.8 MB)\n",
      "     ---------------------------------------- 0.0/12.8 MB ? eta -:--:--\n",
      "     ---------------------------------------- 0.0/12.8 MB ? eta -:--:--\n",
      "      --------------------------------------- 0.3/12.8 MB ? eta -:--:--\n",
      "     - -------------------------------------- 0.5/12.8 MB 1.5 MB/s eta 0:00:09\n",
      "     -- ------------------------------------- 0.8/12.8 MB 1.5 MB/s eta 0:00:09\n",
      "     --- ------------------------------------ 1.0/12.8 MB 1.1 MB/s eta 0:00:11\n",
      "     ---- ----------------------------------- 1.3/12.8 MB 1.1 MB/s eta 0:00:11\n",
      "     ---- ----------------------------------- 1.3/12.8 MB 1.1 MB/s eta 0:00:11\n",
      "     ---- ----------------------------------- 1.6/12.8 MB 1.1 MB/s eta 0:00:11\n",
      "     ----- ---------------------------------- 1.8/12.8 MB 1.1 MB/s eta 0:00:10\n",
      "     ------- -------------------------------- 2.4/12.8 MB 1.2 MB/s eta 0:00:09\n",
      "     ------- -------------------------------- 2.4/12.8 MB 1.2 MB/s eta 0:00:09\n",
      "     ------- -------------------------------- 2.4/12.8 MB 1.2 MB/s eta 0:00:09\n",
      "     ------- -------------------------------- 2.4/12.8 MB 1.2 MB/s eta 0:00:09\n",
      "     ------- -------------------------------- 2.4/12.8 MB 1.2 MB/s eta 0:00:09\n",
      "     ------- -------------------------------- 2.4/12.8 MB 1.2 MB/s eta 0:00:09\n",
      "     ------- ------------------------------- 2.6/12.8 MB 798.9 kB/s eta 0:00:13\n",
      "     -------- ------------------------------ 2.9/12.8 MB 802.6 kB/s eta 0:00:13\n",
      "     -------- ------------------------------ 2.9/12.8 MB 802.6 kB/s eta 0:00:13\n",
      "     --------- ----------------------------- 3.1/12.8 MB 772.0 kB/s eta 0:00:13\n",
      "     --------- ----------------------------- 3.1/12.8 MB 772.0 kB/s eta 0:00:13\n",
      "     ---------- ---------------------------- 3.4/12.8 MB 783.3 kB/s eta 0:00:12\n",
      "     ----------- --------------------------- 3.7/12.8 MB 793.1 kB/s eta 0:00:12\n",
      "     ----------- --------------------------- 3.9/12.8 MB 796.1 kB/s eta 0:00:12\n",
      "     ----------- --------------------------- 3.9/12.8 MB 796.1 kB/s eta 0:00:12\n",
      "     ------------ -------------------------- 4.2/12.8 MB 796.3 kB/s eta 0:00:11\n",
      "     ------------- ------------------------- 4.5/12.8 MB 794.2 kB/s eta 0:00:11\n",
      "     ------------- ------------------------- 4.5/12.8 MB 794.2 kB/s eta 0:00:11\n",
      "     -------------- ------------------------ 4.7/12.8 MB 790.0 kB/s eta 0:00:11\n",
      "     -------------- ------------------------ 4.7/12.8 MB 790.0 kB/s eta 0:00:11\n",
      "     --------------- ----------------------- 5.0/12.8 MB 784.3 kB/s eta 0:00:10\n",
      "     --------------- ----------------------- 5.2/12.8 MB 785.1 kB/s eta 0:00:10\n",
      "     --------------- ----------------------- 5.2/12.8 MB 785.1 kB/s eta 0:00:10\n",
      "     ---------------- ---------------------- 5.5/12.8 MB 769.5 kB/s eta 0:00:10\n",
      "     ---------------- ---------------------- 5.5/12.8 MB 769.5 kB/s eta 0:00:10\n",
      "     ----------------- --------------------- 5.8/12.8 MB 767.6 kB/s eta 0:00:10\n",
      "     ----------------- --------------------- 5.8/12.8 MB 767.6 kB/s eta 0:00:10\n",
      "     ------------------ -------------------- 6.0/12.8 MB 761.0 kB/s eta 0:00:09\n",
      "     ------------------ -------------------- 6.0/12.8 MB 761.0 kB/s eta 0:00:09\n",
      "     ------------------- ------------------- 6.3/12.8 MB 761.1 kB/s eta 0:00:09\n",
      "     ------------------- ------------------- 6.6/12.8 MB 769.9 kB/s eta 0:00:09\n",
      "     -------------------- ------------------ 6.8/12.8 MB 769.6 kB/s eta 0:00:08\n",
      "     -------------------- ------------------ 6.8/12.8 MB 769.6 kB/s eta 0:00:08\n",
      "     --------------------- ----------------- 7.1/12.8 MB 761.3 kB/s eta 0:00:08\n",
      "     --------------------- ----------------- 7.1/12.8 MB 761.3 kB/s eta 0:00:08\n",
      "     ---------------------- ---------------- 7.3/12.8 MB 765.2 kB/s eta 0:00:08\n",
      "     ----------------------- --------------- 7.6/12.8 MB 765.1 kB/s eta 0:00:07\n",
      "     ----------------------- --------------- 7.6/12.8 MB 765.1 kB/s eta 0:00:07\n",
      "     ----------------------- --------------- 7.9/12.8 MB 768.6 kB/s eta 0:00:07\n",
      "     ------------------------ -------------- 8.1/12.8 MB 771.9 kB/s eta 0:00:07\n",
      "     ------------------------ -------------- 8.1/12.8 MB 771.9 kB/s eta 0:00:07\n",
      "     ------------------------- ------------- 8.4/12.8 MB 768.2 kB/s eta 0:00:06\n",
      "     -------------------------- ------------ 8.7/12.8 MB 771.4 kB/s eta 0:00:06\n",
      "     -------------------------- ------------ 8.7/12.8 MB 771.4 kB/s eta 0:00:06\n",
      "     --------------------------- ----------- 8.9/12.8 MB 763.7 kB/s eta 0:00:06\n",
      "     --------------------------- ----------- 9.2/12.8 MB 768.8 kB/s eta 0:00:05\n",
      "     --------------------------- ----------- 9.2/12.8 MB 768.8 kB/s eta 0:00:05\n",
      "     ---------------------------- ---------- 9.4/12.8 MB 771.6 kB/s eta 0:00:05\n",
      "     ----------------------------- -------- 10.0/12.8 MB 791.8 kB/s eta 0:00:04\n",
      "     ----------------------------- -------- 10.0/12.8 MB 791.8 kB/s eta 0:00:04\n",
      "     ------------------------------ ------- 10.2/12.8 MB 790.0 kB/s eta 0:00:04\n",
      "     ------------------------------ ------- 10.2/12.8 MB 790.0 kB/s eta 0:00:04\n",
      "     ------------------------------- ------ 10.5/12.8 MB 778.0 kB/s eta 0:00:03\n",
      "     ------------------------------- ------ 10.5/12.8 MB 778.0 kB/s eta 0:00:03\n",
      "     ------------------------------- ------ 10.7/12.8 MB 781.2 kB/s eta 0:00:03\n",
      "     -------------------------------- ----- 11.0/12.8 MB 784.3 kB/s eta 0:00:03\n",
      "     -------------------------------- ----- 11.0/12.8 MB 784.3 kB/s eta 0:00:03\n",
      "     --------------------------------- ---- 11.3/12.8 MB 778.6 kB/s eta 0:00:02\n",
      "     --------------------------------- ---- 11.3/12.8 MB 778.6 kB/s eta 0:00:02\n",
      "     ---------------------------------- --- 11.5/12.8 MB 777.4 kB/s eta 0:00:02\n",
      "     ---------------------------------- --- 11.5/12.8 MB 777.4 kB/s eta 0:00:02\n",
      "     ----------------------------------- -- 11.8/12.8 MB 773.0 kB/s eta 0:00:02\n",
      "     ----------------------------------- -- 12.1/12.8 MB 774.3 kB/s eta 0:00:01\n",
      "     ----------------------------------- -- 12.1/12.8 MB 774.3 kB/s eta 0:00:01\n",
      "     ------------------------------------ - 12.3/12.8 MB 772.5 kB/s eta 0:00:01\n",
      "     -------------------------------------  12.6/12.8 MB 776.1 kB/s eta 0:00:01\n",
      "     -------------------------------------  12.6/12.8 MB 776.1 kB/s eta 0:00:01\n",
      "     -------------------------------------  12.6/12.8 MB 776.1 kB/s eta 0:00:01\n",
      "     -------------------------------------- 12.8/12.8 MB 757.9 kB/s eta 0:00:00\n",
      "Requirement already satisfied: spacy<3.8.0,>=3.7.2 in c:\\users\\user\\3d objects\\news_correlation_10ac_week0\\venv\\lib\\site-packages (from en-core-web-sm==3.7.1) (3.7.6)\n",
      "Requirement already satisfied: spacy-legacy<3.1.0,>=3.0.11 in c:\\users\\user\\3d objects\\news_correlation_10ac_week0\\venv\\lib\\site-packages (from spacy<3.8.0,>=3.7.2->en-core-web-sm==3.7.1) (3.0.12)\n",
      "Requirement already satisfied: spacy-loggers<2.0.0,>=1.0.0 in c:\\users\\user\\3d objects\\news_correlation_10ac_week0\\venv\\lib\\site-packages (from spacy<3.8.0,>=3.7.2->en-core-web-sm==3.7.1) (1.0.5)\n",
      "Requirement already satisfied: murmurhash<1.1.0,>=0.28.0 in c:\\users\\user\\3d objects\\news_correlation_10ac_week0\\venv\\lib\\site-packages (from spacy<3.8.0,>=3.7.2->en-core-web-sm==3.7.1) (1.0.10)\n",
      "Requirement already satisfied: cymem<2.1.0,>=2.0.2 in c:\\users\\user\\3d objects\\news_correlation_10ac_week0\\venv\\lib\\site-packages (from spacy<3.8.0,>=3.7.2->en-core-web-sm==3.7.1) (2.0.8)\n",
      "Requirement already satisfied: preshed<3.1.0,>=3.0.2 in c:\\users\\user\\3d objects\\news_correlation_10ac_week0\\venv\\lib\\site-packages (from spacy<3.8.0,>=3.7.2->en-core-web-sm==3.7.1) (3.0.9)\n",
      "Requirement already satisfied: thinc<8.3.0,>=8.2.2 in c:\\users\\user\\3d objects\\news_correlation_10ac_week0\\venv\\lib\\site-packages (from spacy<3.8.0,>=3.7.2->en-core-web-sm==3.7.1) (8.2.5)\n",
      "Requirement already satisfied: wasabi<1.2.0,>=0.9.1 in c:\\users\\user\\3d objects\\news_correlation_10ac_week0\\venv\\lib\\site-packages (from spacy<3.8.0,>=3.7.2->en-core-web-sm==3.7.1) (1.1.3)\n",
      "Requirement already satisfied: srsly<3.0.0,>=2.4.3 in c:\\users\\user\\3d objects\\news_correlation_10ac_week0\\venv\\lib\\site-packages (from spacy<3.8.0,>=3.7.2->en-core-web-sm==3.7.1) (2.4.8)\n",
      "Requirement already satisfied: catalogue<2.1.0,>=2.0.6 in c:\\users\\user\\3d objects\\news_correlation_10ac_week0\\venv\\lib\\site-packages (from spacy<3.8.0,>=3.7.2->en-core-web-sm==3.7.1) (2.0.10)\n",
      "Requirement already satisfied: weasel<0.5.0,>=0.1.0 in c:\\users\\user\\3d objects\\news_correlation_10ac_week0\\venv\\lib\\site-packages (from spacy<3.8.0,>=3.7.2->en-core-web-sm==3.7.1) (0.4.1)\n",
      "Requirement already satisfied: typer<1.0.0,>=0.3.0 in c:\\users\\user\\3d objects\\news_correlation_10ac_week0\\venv\\lib\\site-packages (from spacy<3.8.0,>=3.7.2->en-core-web-sm==3.7.1) (0.12.5)\n",
      "Requirement already satisfied: tqdm<5.0.0,>=4.38.0 in c:\\users\\user\\3d objects\\news_correlation_10ac_week0\\venv\\lib\\site-packages (from spacy<3.8.0,>=3.7.2->en-core-web-sm==3.7.1) (4.66.5)\n",
      "Requirement already satisfied: requests<3.0.0,>=2.13.0 in c:\\users\\user\\appdata\\roaming\\python\\python312\\site-packages (from spacy<3.8.0,>=3.7.2->en-core-web-sm==3.7.1) (2.31.0)\n",
      "Requirement already satisfied: pydantic!=1.8,!=1.8.1,<3.0.0,>=1.7.4 in c:\\users\\user\\3d objects\\news_correlation_10ac_week0\\venv\\lib\\site-packages (from spacy<3.8.0,>=3.7.2->en-core-web-sm==3.7.1) (2.8.2)\n",
      "Requirement already satisfied: jinja2 in c:\\users\\user\\appdata\\roaming\\python\\python312\\site-packages (from spacy<3.8.0,>=3.7.2->en-core-web-sm==3.7.1) (3.1.3)\n",
      "Requirement already satisfied: setuptools in c:\\users\\user\\appdata\\roaming\\python\\python312\\site-packages (from spacy<3.8.0,>=3.7.2->en-core-web-sm==3.7.1) (70.1.0)\n",
      "Requirement already satisfied: packaging>=20.0 in c:\\users\\user\\appdata\\roaming\\python\\python312\\site-packages (from spacy<3.8.0,>=3.7.2->en-core-web-sm==3.7.1) (24.0)\n",
      "Requirement already satisfied: langcodes<4.0.0,>=3.2.0 in c:\\users\\user\\3d objects\\news_correlation_10ac_week0\\venv\\lib\\site-packages (from spacy<3.8.0,>=3.7.2->en-core-web-sm==3.7.1) (3.4.0)\n",
      "Requirement already satisfied: numpy>=1.19.0 in c:\\users\\user\\appdata\\roaming\\python\\python312\\site-packages (from spacy<3.8.0,>=3.7.2->en-core-web-sm==3.7.1) (1.26.4)\n",
      "Requirement already satisfied: language-data>=1.2 in c:\\users\\user\\3d objects\\news_correlation_10ac_week0\\venv\\lib\\site-packages (from langcodes<4.0.0,>=3.2.0->spacy<3.8.0,>=3.7.2->en-core-web-sm==3.7.1) (1.2.0)\n",
      "Requirement already satisfied: annotated-types>=0.4.0 in c:\\users\\user\\3d objects\\news_correlation_10ac_week0\\venv\\lib\\site-packages (from pydantic!=1.8,!=1.8.1,<3.0.0,>=1.7.4->spacy<3.8.0,>=3.7.2->en-core-web-sm==3.7.1) (0.7.0)\n",
      "Requirement already satisfied: pydantic-core==2.20.1 in c:\\users\\user\\3d objects\\news_correlation_10ac_week0\\venv\\lib\\site-packages (from pydantic!=1.8,!=1.8.1,<3.0.0,>=1.7.4->spacy<3.8.0,>=3.7.2->en-core-web-sm==3.7.1) (2.20.1)\n",
      "Requirement already satisfied: typing-extensions>=4.6.1 in c:\\users\\user\\appdata\\roaming\\python\\python312\\site-packages (from pydantic!=1.8,!=1.8.1,<3.0.0,>=1.7.4->spacy<3.8.0,>=3.7.2->en-core-web-sm==3.7.1) (4.11.0)\n",
      "Requirement already satisfied: charset-normalizer<4,>=2 in c:\\users\\user\\appdata\\roaming\\python\\python312\\site-packages (from requests<3.0.0,>=2.13.0->spacy<3.8.0,>=3.7.2->en-core-web-sm==3.7.1) (3.3.2)\n",
      "Requirement already satisfied: idna<4,>=2.5 in c:\\users\\user\\appdata\\roaming\\python\\python312\\site-packages (from requests<3.0.0,>=2.13.0->spacy<3.8.0,>=3.7.2->en-core-web-sm==3.7.1) (3.7)\n",
      "Requirement already satisfied: urllib3<3,>=1.21.1 in c:\\users\\user\\appdata\\roaming\\python\\python312\\site-packages (from requests<3.0.0,>=2.13.0->spacy<3.8.0,>=3.7.2->en-core-web-sm==3.7.1) (2.2.1)\n",
      "Requirement already satisfied: certifi>=2017.4.17 in c:\\users\\user\\appdata\\roaming\\python\\python312\\site-packages (from requests<3.0.0,>=2.13.0->spacy<3.8.0,>=3.7.2->en-core-web-sm==3.7.1) (2024.2.2)\n",
      "Requirement already satisfied: blis<0.8.0,>=0.7.8 in c:\\users\\user\\3d objects\\news_correlation_10ac_week0\\venv\\lib\\site-packages (from thinc<8.3.0,>=8.2.2->spacy<3.8.0,>=3.7.2->en-core-web-sm==3.7.1) (0.7.11)\n",
      "Requirement already satisfied: confection<1.0.0,>=0.0.1 in c:\\users\\user\\3d objects\\news_correlation_10ac_week0\\venv\\lib\\site-packages (from thinc<8.3.0,>=8.2.2->spacy<3.8.0,>=3.7.2->en-core-web-sm==3.7.1) (0.1.5)\n",
      "Requirement already satisfied: colorama in c:\\users\\user\\appdata\\roaming\\python\\python312\\site-packages (from tqdm<5.0.0,>=4.38.0->spacy<3.8.0,>=3.7.2->en-core-web-sm==3.7.1) (0.4.6)\n",
      "Requirement already satisfied: click>=8.0.0 in c:\\users\\user\\appdata\\roaming\\python\\python312\\site-packages (from typer<1.0.0,>=0.3.0->spacy<3.8.0,>=3.7.2->en-core-web-sm==3.7.1) (8.1.7)\n",
      "Requirement already satisfied: shellingham>=1.3.0 in c:\\users\\user\\3d objects\\news_correlation_10ac_week0\\venv\\lib\\site-packages (from typer<1.0.0,>=0.3.0->spacy<3.8.0,>=3.7.2->en-core-web-sm==3.7.1) (1.5.4)\n",
      "Requirement already satisfied: rich>=10.11.0 in c:\\users\\user\\appdata\\roaming\\python\\python312\\site-packages (from typer<1.0.0,>=0.3.0->spacy<3.8.0,>=3.7.2->en-core-web-sm==3.7.1) (13.7.1)\n",
      "Requirement already satisfied: cloudpathlib<1.0.0,>=0.7.0 in c:\\users\\user\\3d objects\\news_correlation_10ac_week0\\venv\\lib\\site-packages (from weasel<0.5.0,>=0.1.0->spacy<3.8.0,>=3.7.2->en-core-web-sm==3.7.1) (0.18.1)\n",
      "Requirement already satisfied: smart-open<8.0.0,>=5.2.1 in c:\\users\\user\\3d objects\\news_correlation_10ac_week0\\venv\\lib\\site-packages (from weasel<0.5.0,>=0.1.0->spacy<3.8.0,>=3.7.2->en-core-web-sm==3.7.1) (7.0.4)\n",
      "Requirement already satisfied: MarkupSafe>=2.0 in c:\\users\\user\\appdata\\roaming\\python\\python312\\site-packages (from jinja2->spacy<3.8.0,>=3.7.2->en-core-web-sm==3.7.1) (2.1.5)\n",
      "Requirement already satisfied: marisa-trie>=0.7.7 in c:\\users\\user\\3d objects\\news_correlation_10ac_week0\\venv\\lib\\site-packages (from language-data>=1.2->langcodes<4.0.0,>=3.2.0->spacy<3.8.0,>=3.7.2->en-core-web-sm==3.7.1) (1.2.0)\n",
      "Requirement already satisfied: markdown-it-py>=2.2.0 in c:\\users\\user\\appdata\\roaming\\python\\python312\\site-packages (from rich>=10.11.0->typer<1.0.0,>=0.3.0->spacy<3.8.0,>=3.7.2->en-core-web-sm==3.7.1) (3.0.0)\n",
      "Requirement already satisfied: pygments<3.0.0,>=2.13.0 in c:\\users\\user\\appdata\\roaming\\python\\python312\\site-packages (from rich>=10.11.0->typer<1.0.0,>=0.3.0->spacy<3.8.0,>=3.7.2->en-core-web-sm==3.7.1) (2.17.2)\n",
      "Requirement already satisfied: wrapt in c:\\users\\user\\3d objects\\news_correlation_10ac_week0\\venv\\lib\\site-packages (from smart-open<8.0.0,>=5.2.1->weasel<0.5.0,>=0.1.0->spacy<3.8.0,>=3.7.2->en-core-web-sm==3.7.1) (1.16.0)\n",
      "Requirement already satisfied: mdurl~=0.1 in c:\\users\\user\\appdata\\roaming\\python\\python312\\site-packages (from markdown-it-py>=2.2.0->rich>=10.11.0->typer<1.0.0,>=0.3.0->spacy<3.8.0,>=3.7.2->en-core-web-sm==3.7.1) (0.1.2)\n",
      "Installing collected packages: en-core-web-sm\n",
      "Successfully installed en-core-web-sm-3.7.1\n",
      "\u001b[38;5;2m✔ Download and installation successful\u001b[0m\n",
      "You can now load the package via spacy.load('en_core_web_sm')\n"
     ]
    }
   ],
   "source": [
    "!python -m spacy download en_core_web_sm"
   ]
  },
  {
   "cell_type": "markdown",
   "metadata": {},
   "source": [
    " ## Countries that have many articles written about them - the content of the news is about that country"
   ]
  },
  {
   "cell_type": "markdown",
   "metadata": {},
   "source": [
    "## using name entity recognition for country"
   ]
  },
  {
   "cell_type": "code",
   "execution_count": 126,
   "metadata": {},
   "outputs": [],
   "source": [
    "nlp=spacy.load('en_core_web_sm')"
   ]
  },
  {
   "cell_type": "code",
   "execution_count": 128,
   "metadata": {},
   "outputs": [],
   "source": [
    "def extract_country(text):\n",
    "    doc=nlp(text)\n",
    "    countries=[ent.text for ent in doc.ents if ent.label_=='GPE']\n",
    "    return countries[0] if countries else None\n",
    "\n",
    "df_merge_rating_location['Country_mentioned']=df_merge_rating_location['content'].apply(extract_country)\n"
   ]
  },
  {
   "cell_type": "code",
   "execution_count": 134,
   "metadata": {},
   "outputs": [
    {
     "data": {
      "text/plain": [
       "Index(['article_id', 'source_id', 'source_name', 'author', 'title',\n",
       "       'description', 'url', 'url_to_image', 'published_at', 'content',\n",
       "       'category', 'article', 'title_sentiment', 'domain', 'location',\n",
       "       'Country', 'Country_mentioned'],\n",
       "      dtype='object')"
      ]
     },
     "execution_count": 134,
     "metadata": {},
     "output_type": "execute_result"
    }
   ],
   "source": [
    "df_merge_rating_location.columns"
   ]
  },
  {
   "cell_type": "code",
   "execution_count": 138,
   "metadata": {},
   "outputs": [
    {
     "data": {
      "text/html": [
       "<div>\n",
       "<style scoped>\n",
       "    .dataframe tbody tr th:only-of-type {\n",
       "        vertical-align: middle;\n",
       "    }\n",
       "\n",
       "    .dataframe tbody tr th {\n",
       "        vertical-align: top;\n",
       "    }\n",
       "\n",
       "    .dataframe thead th {\n",
       "        text-align: right;\n",
       "    }\n",
       "</style>\n",
       "<table border=\"1\" class=\"dataframe\">\n",
       "  <thead>\n",
       "    <tr style=\"text-align: right;\">\n",
       "      <th></th>\n",
       "      <th>Country_mentioned</th>\n",
       "      <th>article_id</th>\n",
       "    </tr>\n",
       "  </thead>\n",
       "  <tbody>\n",
       "    <tr>\n",
       "      <th>0</th>\n",
       "      <td>(Kingdom of Germany</td>\n",
       "      <td>1</td>\n",
       "    </tr>\n",
       "    <tr>\n",
       "      <th>1</th>\n",
       "      <td>+10322</td>\n",
       "      <td>1</td>\n",
       "    </tr>\n",
       "    <tr>\n",
       "      <th>2</th>\n",
       "      <td>+2511</td>\n",
       "      <td>3</td>\n",
       "    </tr>\n",
       "    <tr>\n",
       "      <th>3</th>\n",
       "      <td>+3282</td>\n",
       "      <td>5</td>\n",
       "    </tr>\n",
       "    <tr>\n",
       "      <th>4</th>\n",
       "      <td>+4172</td>\n",
       "      <td>3</td>\n",
       "    </tr>\n",
       "    <tr>\n",
       "      <th>...</th>\n",
       "      <td>...</td>\n",
       "      <td>...</td>\n",
       "    </tr>\n",
       "    <tr>\n",
       "      <th>2788</th>\n",
       "      <td>their United States Champ</td>\n",
       "      <td>2</td>\n",
       "    </tr>\n",
       "    <tr>\n",
       "      <th>2789</th>\n",
       "      <td>turkey</td>\n",
       "      <td>3</td>\n",
       "    </tr>\n",
       "    <tr>\n",
       "      <th>2790</th>\n",
       "      <td>us</td>\n",
       "      <td>2</td>\n",
       "    </tr>\n",
       "    <tr>\n",
       "      <th>2791</th>\n",
       "      <td>west Africa</td>\n",
       "      <td>3</td>\n",
       "    </tr>\n",
       "    <tr>\n",
       "      <th>2792</th>\n",
       "      <td>xMEMS</td>\n",
       "      <td>1</td>\n",
       "    </tr>\n",
       "  </tbody>\n",
       "</table>\n",
       "<p>2793 rows × 2 columns</p>\n",
       "</div>"
      ],
      "text/plain": [
       "              Country_mentioned  article_id\n",
       "0           (Kingdom of Germany           1\n",
       "1                        +10322           1\n",
       "2                         +2511           3\n",
       "3                         +3282           5\n",
       "4                         +4172           3\n",
       "...                         ...         ...\n",
       "2788  their United States Champ           2\n",
       "2789                     turkey           3\n",
       "2790                         us           2\n",
       "2791                west Africa           3\n",
       "2792                      xMEMS           1\n",
       "\n",
       "[2793 rows x 2 columns]"
      ]
     },
     "execution_count": 138,
     "metadata": {},
     "output_type": "execute_result"
    }
   ],
   "source": [
    "\n",
    "country_article_counts = df_merge_rating_location.groupby('Country_mentioned')['article_id'].count().reset_index()\n",
    "country_article_counts"
   ]
  },
  {
   "cell_type": "code",
   "execution_count": 143,
   "metadata": {},
   "outputs": [
    {
     "name": "stdout",
     "output_type": "stream",
     "text": [
      "         Country  NumArticles\n",
      "1055      Israel          781\n",
      "640       Dublin          653\n",
      "2400          US          558\n",
      "1633    New York          528\n",
      "812         Gaza          484\n",
      "2413     Ukraine          421\n",
      "2557  Wilmington          357\n",
      "2380        U.S.          349\n",
      "1959      Russia          321\n",
      "1568    NEW YORK          300                           Country  NumArticles\n",
      "1165                  Kickstarter            1\n",
      "1164                       Kibera            1\n",
      "1163                      Kibbutz            1\n",
      "1162                   Kianothing            1\n",
      "1161  Khyber Pakhtunkhwa Province            1\n",
      "1160                      Kherson            1\n",
      "1158                    Khankendi            1\n",
      "1155                   Kepler-385            1\n",
      "1154                       Kenyas            1\n",
      "2792                        xMEMS            1\n"
     ]
    }
   ],
   "source": [
    "# Rename columns for clarity\n",
    "country_article_counts.columns = ['Country', 'NumArticles']\n",
    "\n",
    "# Sort by the number of articles in descending order\n",
    "top_countries_articles = country_article_counts.sort_values(by='NumArticles', ascending=False).head(10)\n",
    "least_countries_articles = country_article_counts.sort_values(by='NumArticles', ascending=False).tail(10)\n",
    "# Display the top countries with the most articles written about them\n",
    "print(top_countries_articles, least_countries_articles)"
   ]
  },
  {
   "cell_type": "code",
   "execution_count": 144,
   "metadata": {},
   "outputs": [
    {
     "name": "stderr",
     "output_type": "stream",
     "text": [
      "C:\\Users\\user\\AppData\\Local\\Temp\\ipykernel_13900\\4288905036.py:5: FutureWarning: \n",
      "\n",
      "Passing `palette` without assigning `hue` is deprecated and will be removed in v0.14.0. Assign the `y` variable to `hue` and set `legend=False` for the same effect.\n",
      "\n",
      "  sns.barplot(ax=axes[0], x='NumArticles', y='Country', data=top_countries_articles, palette='viridis')\n",
      "C:\\Users\\user\\AppData\\Local\\Temp\\ipykernel_13900\\4288905036.py:11: FutureWarning: \n",
      "\n",
      "Passing `palette` without assigning `hue` is deprecated and will be removed in v0.14.0. Assign the `y` variable to `hue` and set `legend=False` for the same effect.\n",
      "\n",
      "  sns.barplot(ax=axes[1], x='NumArticles', y='Country', data=least_countries_articles, palette='viridis')\n"
     ]
    },
    {
     "data": {
      "image/png": "[encoded data removed]",
      "text/plain": [
       "<Figure size 1800x800 with 2 Axes>"
      ]
     },
     "metadata": {},
     "output_type": "display_data"
    }
   ],
   "source": [
    "# Create subplots\n",
    "fig, axes = plt.subplots(1, 2, figsize=(18, 8), sharey=True)\n",
    "\n",
    "# Top countries plot\n",
    "sns.barplot(ax=axes[0], x='NumArticles', y='Country', data=top_countries_articles, palette='viridis')\n",
    "axes[0].set_title('Top 10 Countries with the Most Articles Written About Them')\n",
    "axes[0].set_xlabel('Number of Articles')\n",
    "axes[0].set_ylabel('Country')\n",
    "\n",
    "# Least countries plot\n",
    "sns.barplot(ax=axes[1], x='NumArticles', y='Country', data=least_countries_articles, palette='viridis')\n",
    "axes[1].set_title('Least 10 Countries with the Fewest Articles Written About Them')\n",
    "axes[1].set_xlabel('Number of Articles')\n",
    "axes[1].set_ylabel('')  # No need for y-label on the second plot to avoid repetition\n",
    "\n",
    "# Show the plot\n",
    "plt.tight_layout()\n",
    "plt.show()"
   ]
  },
  {
   "cell_type": "code",
   "execution_count": 41,
   "metadata": {},
   "outputs": [
    {
     "name": "stdout",
     "output_type": "stream",
     "text": [
      "<class 'pandas.core.frame.DataFrame'>\n",
      "RangeIndex: 58356 entries, 0 to 58355\n",
      "Data columns (total 14 columns):\n",
      " #   Column           Non-Null Count  Dtype \n",
      "---  ------           --------------  ----- \n",
      " 0   article_id       58356 non-null  int64 \n",
      " 1   source_id        17771 non-null  object\n",
      " 2   source_name      58356 non-null  object\n",
      " 3   author           56193 non-null  object\n",
      " 4   title            58356 non-null  object\n",
      " 5   description      58346 non-null  object\n",
      " 6   url              58356 non-null  object\n",
      " 7   url_to_image     54905 non-null  object\n",
      " 8   published_at     58356 non-null  object\n",
      " 9   content          58356 non-null  object\n",
      " 10  category         58335 non-null  object\n",
      " 11  article          58356 non-null  object\n",
      " 12  title_sentiment  58356 non-null  object\n",
      " 13  domain           58356 non-null  object\n",
      "dtypes: int64(1), object(13)\n",
      "memory usage: 6.2+ MB\n"
     ]
    }
   ],
   "source": [
    "df_rating.info()"
   ]
  },
  {
   "cell_type": "markdown",
   "metadata": {},
   "source": [
    "## Websites that reported (the news content) about Africa, US, China, EU, Russia, Ukraine, Middle East? Note that you will need to group countries together to form the African, EU, and Middle East continents/regions."
   ]
  },
  {
   "cell_type": "code",
   "execution_count": 146,
   "metadata": {},
   "outputs": [],
   "source": [
    "# Example mapping of countries to regions (this list is not exhaustive)\n",
    "country_to_region = {\n",
    "    'united states': 'US',\n",
    "    'china': 'China',\n",
    "    'russia': 'Russia',\n",
    "    'ukraine': 'Ukraine',\n",
    "    'nigeria': 'Africa',\n",
    "    'egypt': 'Africa',\n",
    "    'germany': 'EU',\n",
    "    'france': 'EU',\n",
    "    'italy': 'EU',\n",
    "    'saudi arabia': 'Middle East',\n",
    "    'iran': 'Middle East',\n",
    "    # Add more countries and their corresponding regions\n",
    "}"
   ]
  },
  {
   "cell_type": "code",
   "execution_count": 148,
   "metadata": {},
   "outputs": [],
   "source": [
    "# Define regions and their associated countries\n",
    "africa_countries = ['nigeria', 'egypt', 'south africa', 'kenya', 'ethiopia']  # Add more African countries\n",
    "eu_countries = ['germany', 'france', 'italy', 'spain', 'united kingdom']  # Add more EU countries\n",
    "middle_east_countries = ['saudi arabia', 'iran', 'iraq', 'israel', 'turkey']  # Add more Middle Eastern countries\n",
    "\n",
    "# Extend the country_to_region mapping to include these regions\n",
    "country_to_region.update({\n",
    "    country: 'Africa' for country in africa_countries\n",
    "})\n",
    "country_to_region.update({\n",
    "    country: 'EU' for country in eu_countries\n",
    "})\n",
    "country_to_region.update({\n",
    "    country: 'Middle East' for country in middle_east_countries\n",
    "})\n",
    "country_to_region.update({\n",
    "    'united states': 'US',\n",
    "    'china': 'China',\n",
    "    'russia': 'Russia',\n",
    "    'ukraine': 'Ukraine'\n",
    "})\n",
    "\n",
    "# Apply the mapping to the 'country_mentioned' column to create the 'region_mentioned' column\n",
    "df_merge_rating_location['region_mentioned'] = df_merge_rating_location['Country_mentioned'].map(country_to_region)\n",
    "\n"
   ]
  },
  {
   "cell_type": "code",
   "execution_count": 149,
   "metadata": {},
   "outputs": [],
   "source": [
    "\n",
    "\n",
    "# Drop rows where no region was mentioned\n",
    "df_merge_rating_location = df_merge_rating_location.dropna(subset=['region_mentioned'])\n"
   ]
  },
  {
   "cell_type": "code",
   "execution_count": 150,
   "metadata": {},
   "outputs": [
    {
     "name": "stdout",
     "output_type": "stream",
     "text": [
      "             Website       Region  NumArticles\n",
      "0            cnn.com  Middle East            1\n",
      "1  digitaltrends.com  Middle East            1\n",
      "2            npr.org  Middle East            1\n"
     ]
    }
   ],
   "source": [
    "# Group by website (domain) and region to count the number of articles\n",
    "region_report_counts = df_merge_rating_location.groupby(['domain', 'region_mentioned'])['article_id'].count().reset_index()\n",
    "\n",
    "# Rename columns for clarity\n",
    "region_report_counts.columns = ['Website', 'Region', 'NumArticles']\n",
    "\n",
    "# Display the result\n",
    "print(region_report_counts)\n"
   ]
  },
  {
   "cell_type": "code",
   "execution_count": 151,
   "metadata": {},
   "outputs": [
    {
     "ename": "TypeError",
     "evalue": "DataFrame.pivot() takes 1 positional argument but 4 were given",
     "output_type": "error",
     "traceback": [
      "\u001b[1;31m---------------------------------------------------------------------------\u001b[0m",
      "\u001b[1;31mTypeError\u001b[0m                                 Traceback (most recent call last)",
      "Cell \u001b[1;32mIn[151], line 2\u001b[0m\n\u001b[0;32m      1\u001b[0m \u001b[38;5;66;03m# Example: Heatmap of the number of articles reported by websites across regions\u001b[39;00m\n\u001b[1;32m----> 2\u001b[0m pivot_table \u001b[38;5;241m=\u001b[39m \u001b[43mregion_report_counts\u001b[49m\u001b[38;5;241;43m.\u001b[39;49m\u001b[43mpivot\u001b[49m\u001b[43m(\u001b[49m\u001b[38;5;124;43m'\u001b[39;49m\u001b[38;5;124;43mWebsite\u001b[39;49m\u001b[38;5;124;43m'\u001b[39;49m\u001b[43m,\u001b[49m\u001b[43m \u001b[49m\u001b[38;5;124;43m'\u001b[39;49m\u001b[38;5;124;43mRegion\u001b[39;49m\u001b[38;5;124;43m'\u001b[39;49m\u001b[43m,\u001b[49m\u001b[43m \u001b[49m\u001b[38;5;124;43m'\u001b[39;49m\u001b[38;5;124;43mNumArticles\u001b[39;49m\u001b[38;5;124;43m'\u001b[39;49m\u001b[43m)\u001b[49m\n\u001b[0;32m      3\u001b[0m plt\u001b[38;5;241m.\u001b[39mfigure(figsize\u001b[38;5;241m=\u001b[39m(\u001b[38;5;241m12\u001b[39m, \u001b[38;5;241m8\u001b[39m))\n\u001b[0;32m      4\u001b[0m sns\u001b[38;5;241m.\u001b[39mheatmap(pivot_table, annot\u001b[38;5;241m=\u001b[39m\u001b[38;5;28;01mTrue\u001b[39;00m, cmap\u001b[38;5;241m=\u001b[39m\u001b[38;5;124m'\u001b[39m\u001b[38;5;124mviridis\u001b[39m\u001b[38;5;124m'\u001b[39m, fmt\u001b[38;5;241m=\u001b[39m\u001b[38;5;124m'\u001b[39m\u001b[38;5;124mg\u001b[39m\u001b[38;5;124m'\u001b[39m)\n",
      "\u001b[1;31mTypeError\u001b[0m: DataFrame.pivot() takes 1 positional argument but 4 were given"
     ]
    }
   ],
   "source": [
    "\n",
    "# Example: Heatmap of the number of articles reported by websites across regions\n",
    "pivot_table = region_report_counts.pivot('Website', 'Region', 'NumArticles')\n",
    "plt.figure(figsize=(12, 8))\n",
    "sns.heatmap(pivot_table, annot=True, cmap='viridis', fmt='g')\n",
    "plt.title('Number of Articles Reported by Websites Across Regions')\n",
    "plt.show()\n"
   ]
  },
  {
   "cell_type": "markdown",
   "metadata": {},
   "source": [
    "## Websites with the highest count of positive, neutral, and negative sentiment? To do this you will need to group the data by website domain and apply descriptive statistics such as mean, median, and variance\n",
    "compare the impact of using mean/average and median, \n",
    "check the distribution of sentiments for a particular domain (select the top 10 domains by visitors traffic) amount of news reported or vs the global news sentiment distribution)"
   ]
  },
  {
   "cell_type": "code",
   "execution_count": 154,
   "metadata": {},
   "outputs": [
    {
     "name": "stdout",
     "output_type": "stream",
     "text": [
      "Index(['Neutral'], dtype='object', name='title_sentiment')\n"
     ]
    },
    {
     "data": {
      "text/plain": [
       "\"\\n# Rename columns for clarity\\nsentiment_counts_pivot.columns = ['Negative', 'Neutral', 'Positive']\\n\\n# Calculate additional statistics\\nsentiment_counts_pivot['Total'] = sentiment_counts_pivot.sum(axis=1)\\nsentiment_counts_pivot['Mean'] = sentiment_counts_pivot[['Negative', 'Neutral', 'Positive']].mean(axis=1)\\nsentiment_counts_pivot['Median'] = sentiment_counts_pivot[['Negative', 'Neutral', 'Positive']].median(axis=1)\\nsentiment_counts_pivot['Variance'] = sentiment_counts_pivot[['Negative', 'Neutral', 'Positive']].var(axis=1)\\n\\n# Sort by the total number of articles to get the top domains\\ntop_sentiment_domains = sentiment_counts_pivot.sort_values(by='Total', ascending=False).head(10)\\n\\nprint(top_sentiment_domains)\""
      ]
     },
     "execution_count": 154,
     "metadata": {},
     "output_type": "execute_result"
    }
   ],
   "source": [
    "# Group by domain and sentiment, and count the number of articles\n",
    "sentiment_counts = df_merge_rating_location.groupby(['domain', 'title_sentiment'])['article_id'].count().reset_index()\n",
    "\n",
    "# Pivot the data to get separate columns for positive, neutral, and negative sentiments\n",
    "sentiment_counts_pivot = sentiment_counts.pivot(index='domain', columns='title_sentiment', values='article_id').fillna(0)\n",
    "\n",
    "print(sentiment_counts_pivot.columns)\n",
    "'''\n",
    "# Rename columns for clarity\n",
    "sentiment_counts_pivot.columns = ['Negative', 'Neutral', 'Positive']\n",
    "\n",
    "# Calculate additional statistics\n",
    "sentiment_counts_pivot['Total'] = sentiment_counts_pivot.sum(axis=1)\n",
    "sentiment_counts_pivot['Mean'] = sentiment_counts_pivot[['Negative', 'Neutral', 'Positive']].mean(axis=1)\n",
    "sentiment_counts_pivot['Median'] = sentiment_counts_pivot[['Negative', 'Neutral', 'Positive']].median(axis=1)\n",
    "sentiment_counts_pivot['Variance'] = sentiment_counts_pivot[['Negative', 'Neutral', 'Positive']].var(axis=1)\n",
    "\n",
    "# Sort by the total number of articles to get the top domains\n",
    "top_sentiment_domains = sentiment_counts_pivot.sort_values(by='Total', ascending=False).head(10)\n",
    "\n",
    "print(top_sentiment_domains)'''\n"
   ]
  },
  {
   "cell_type": "code",
   "execution_count": 157,
   "metadata": {},
   "outputs": [
    {
     "name": "stdout",
     "output_type": "stream",
     "text": [
      "title_sentiment    Negative  Neutral  Positive  Total      Mean  Median  \\\n",
      "domain                                                                    \n",
      "cnn.com                   0        1         0      1  0.333333     0.0   \n",
      "digitaltrends.com         0        1         0      1  0.333333     0.0   \n",
      "npr.org                   0        1         0      1  0.333333     0.0   \n",
      "\n",
      "title_sentiment    Variance  \n",
      "domain                       \n",
      "cnn.com            0.333333  \n",
      "digitaltrends.com  0.333333  \n",
      "npr.org            0.333333  \n"
     ]
    }
   ],
   "source": [
    "# Ensure all sentiment categories are present\n",
    "for sentiment in ['Negative', 'Neutral', 'Positive']:\n",
    "    if sentiment not in sentiment_counts_pivot.columns:\n",
    "        sentiment_counts_pivot[sentiment] = 0\n",
    "\n",
    "# Reorder columns to match the expected order\n",
    "sentiment_counts_pivot = sentiment_counts_pivot[['Negative', 'Neutral', 'Positive']]\n",
    "\n",
    "# Calculate additional statistics using .loc[] to avoid SettingWithCopyWarning\n",
    "sentiment_counts_pivot.loc[:, 'Total'] = sentiment_counts_pivot.sum(axis=1)\n",
    "sentiment_counts_pivot.loc[:, 'Mean'] = sentiment_counts_pivot[['Negative', 'Neutral', 'Positive']].mean(axis=1)\n",
    "sentiment_counts_pivot.loc[:, 'Median'] = sentiment_counts_pivot[['Negative', 'Neutral', 'Positive']].median(axis=1)\n",
    "sentiment_counts_pivot.loc[:, 'Variance'] = sentiment_counts_pivot[['Negative', 'Neutral', 'Positive']].var(axis=1)\n",
    "\n",
    "# Sort by the total number of articles to get the top domains\n",
    "top_sentiment_domains = sentiment_counts_pivot.sort_values(by='Total', ascending=False).head(10)\n",
    "\n",
    "print(top_sentiment_domains)\n"
   ]
  },
  {
   "cell_type": "markdown",
   "metadata": {},
   "source": [
    "## \n",
    "\n",
    "\n",
    "\n"
   ]
  },
  {
   "cell_type": "markdown",
   "metadata": {},
   "source": [
    "Compare the content metadata across sites \n",
    "How similar are the raw message lengths across sites? Check the distribution among sites\n",
    "How similar are the number of words in the title across sites? Check the distribution among sites"
   ]
  },
  {
   "cell_type": "code",
   "execution_count": 158,
   "metadata": {},
   "outputs": [
    {
     "name": "stdout",
     "output_type": "stream",
     "text": [
      "                   count   mean  std    min    25%    50%    75%    max\n",
      "domain                                                                 \n",
      "cnn.com              1.0  214.0  NaN  214.0  214.0  214.0  214.0  214.0\n",
      "digitaltrends.com    1.0  214.0  NaN  214.0  214.0  214.0  214.0  214.0\n",
      "npr.org              1.0  156.0  NaN  156.0  156.0  156.0  156.0  156.0\n"
     ]
    },
    {
     "name": "stderr",
     "output_type": "stream",
     "text": [
      "C:\\Users\\user\\AppData\\Local\\Temp\\ipykernel_13900\\1243598337.py:2: SettingWithCopyWarning: \n",
      "A value is trying to be set on a copy of a slice from a DataFrame.\n",
      "Try using .loc[row_indexer,col_indexer] = value instead\n",
      "\n",
      "See the caveats in the documentation: https://pandas.pydata.org/pandas-docs/stable/user_guide/indexing.html#returning-a-view-versus-a-copy\n",
      "  df_merge_rating_location['content_length'] = df_merge_rating_location['content'].apply(len)\n"
     ]
    }
   ],
   "source": [
    "# Calculate the length of the content for each article\n",
    "df_merge_rating_location['content_length'] = df_merge_rating_location['content'].apply(len)\n",
    "\n",
    "# Group by domain and calculate summary statistics for content length\n",
    "content_length_stats = df_merge_rating_location.groupby('domain')['content_length'].describe()\n",
    "\n",
    "# Display the summary statistics for the content length across sites\n",
    "print(content_length_stats)\n"
   ]
  },
  {
   "cell_type": "markdown",
   "metadata": {},
   "source": [
    "Explanation\n",
    "Single Data Points: Each domain has only one article, which leads to having no variation in the content_length. This is why the box plot shows a single line for each domain.\n",
    "\n",
    "Standard Deviation as NaN: The standard deviation is not applicable when there's only one data point, which explains the NaN values in the statistical summary. Since there's no variability, the standard deviation cannot be computed."
   ]
  },
  {
   "cell_type": "code",
   "execution_count": 159,
   "metadata": {},
   "outputs": [
    {
     "name": "stderr",
     "output_type": "stream",
     "text": [
      "C:\\Users\\user\\AppData\\Local\\Temp\\ipykernel_13900\\1546530217.py:10: FutureWarning: \n",
      "\n",
      "Passing `palette` without assigning `hue` is deprecated and will be removed in v0.14.0. Assign the `x` variable to `hue` and set `legend=False` for the same effect.\n",
      "\n",
      "  sns.boxplot(x='domain', y='content_length', data=top_domains_content, palette='viridis')\n"
     ]
    },
    {
     "data": {
      "image/png": "[encoded data removed]",
      "text/plain": [
       "<Figure size 1400x800 with 1 Axes>"
      ]
     },
     "metadata": {},
     "output_type": "display_data"
    }
   ],
   "source": [
    "import seaborn as sns\n",
    "import matplotlib.pyplot as plt\n",
    "\n",
    "# Filter the data for the top domains by article count\n",
    "top_domains = df_merge_rating_location['domain'].value_counts().head(10).index\n",
    "top_domains_content = df_merge_rating_location[df_merge_rating_location['domain'].isin(top_domains)]\n",
    "\n",
    "# Plot the distribution of content lengths for the top domains\n",
    "plt.figure(figsize=(14, 8))\n",
    "sns.boxplot(x='domain', y='content_length', data=top_domains_content, palette='viridis')\n",
    "plt.title('Distribution of Content Lengths Across Top Domains')\n",
    "plt.xlabel('Website Domain')\n",
    "plt.ylabel('Content Length')\n",
    "plt.xticks(rotation=45)\n",
    "plt.show()\n"
   ]
  },
  {
   "cell_type": "code",
   "execution_count": 42,
   "metadata": {},
   "outputs": [
    {
     "name": "stdout",
     "output_type": "stream",
     "text": [
      "<class 'pandas.core.frame.DataFrame'>\n",
      "RangeIndex: 37802 entries, 0 to 37801\n",
      "Data columns (total 3 columns):\n",
      " #   Column            Non-Null Count  Dtype \n",
      "---  ------            --------------  ----- \n",
      " 0   SourceCommonName  37802 non-null  object\n",
      " 1   location          37802 non-null  object\n",
      " 2   Country           37801 non-null  object\n",
      "dtypes: object(3)\n",
      "memory usage: 886.1+ KB\n"
     ]
    }
   ],
   "source": [
    "df_domain_location.info()"
   ]
  }
 ],
 "metadata": {
  "kernelspec": {
   "display_name": "Python 3",
   "language": "python",
   "name": "python3"
  },
  "language_info": {
   "codemirror_mode": {
    "name": "ipython",
    "version": 3
   },
   "file_extension": ".py",
   "mimetype": "text/x-python",
   "name": "python",
   "nbconvert_exporter": "python",
   "pygments_lexer": "ipython3",
   "version": "3.12.3"
  }
 },
 "nbformat": 4,
 "nbformat_minor": 2
}
